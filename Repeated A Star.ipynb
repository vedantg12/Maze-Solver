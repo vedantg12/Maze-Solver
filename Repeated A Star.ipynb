{
 "cells": [
  {
   "cell_type": "markdown",
   "id": "7e28e9c4",
   "metadata": {},
   "source": [
    "#### Importing Libraries"
   ]
  },
  {
   "cell_type": "code",
   "execution_count": 2,
   "id": "babdd265",
   "metadata": {},
   "outputs": [],
   "source": [
    "import random\n",
    "import numpy as np\n",
    "from tqdm import tqdm\n",
    "import matplotlib.pyplot as plt\n",
    "import math\n",
    "import time\n",
    "from sortedcontainers import SortedSet # Used for fringe in A star\n",
    "import queue # Used for fringe in BFS"
   ]
  },
  {
   "cell_type": "markdown",
   "id": "98dbf9ff",
   "metadata": {},
   "source": [
    "#### Grid and Cell class"
   ]
  },
  {
   "cell_type": "code",
   "execution_count": 2,
   "id": "7a21dcb7",
   "metadata": {},
   "outputs": [],
   "source": [
    "# Class cell -> its the class of all the nodes in the grid, Each cell of the grid is defined as a object of type \n",
    "# cell.\n",
    "class cell:\n",
    "    def __init__(self,x,y): # Constructor for class cell\n",
    "        self.x = x # x coordinate of the cell\n",
    "        self.y = y # y coordinate of the cell\n",
    "        self.blocked = False # Flag to indicate whether the cell is blocked or not\n",
    "        self.g = 0 # g value of the cell (the distance from start cell to curr cell)\n",
    "        self.h = 0 # h value of the cell (estimated value of the distance between curr cell and goal cell)\n",
    "        self.f = 0 # f value of the cell (f = g+h in A*, defines the priority of a node)\n",
    "    def set_h_value(self, g_x, g_y, heuristic, weight):\n",
    "        '''This function is used to assign the heuristic value i.e. the h value and the f value to the calling \n",
    "           class object. It takes in the argument g_x = goal cell abscissa, g_y = goal cell ordinate, \n",
    "           heuristic = It defines the type of heuristic the A* problem is using, weight = this is for problem \n",
    "           number 9 where we test the effect of weights on the performance of repeated A* and normal A*.'''\n",
    "        if heuristic == 'm': \n",
    "            # Manhattan distance\n",
    "            self.h = weight * abs(g_x - self.x) + abs(g_y - self.y)\n",
    "            self.f = self.g + self.h # also updating f inside this function\n",
    "        if heuristic == 'e':\n",
    "            # euclidean distance\n",
    "            self.h = weight * math.sqrt((g_x - self.x)**2 + (g_y - self.y)**2)\n",
    "            self.f = self.g + self.h\n",
    "        if heuristic == 'c':\n",
    "            # chebyshev distance\n",
    "            self.h = weight * max(abs(g_x - self.x), abs(g_y - self.y))\n",
    "            self.f = self.g + self.h\n",
    "        if heuristic == 'dec_weight_m':\n",
    "            # dec_weight_m manhattan distance is used as the heuristic\n",
    "            # Adaptive weight technique, nodes nearer to the goal cell are assigned lower weight and nodes farther\n",
    "            # away from the goal cell are assigned greater weights.\n",
    "            self.h = abs(g_x - self.x) + abs(g_y - self.y)\n",
    "            # if g < (2w-1)h then reduce the weight of g else reduce the weights of both g and h\n",
    "            if self.g < (2*weight - 1) * self.h: \n",
    "                self.f = self.g / (2*weight - 1) + self.h \n",
    "            else:\n",
    "                self.f = (self.g + self.h) / weight \n",
    "        if heuristic == 'dec_weight_e':\n",
    "            # dec_weight_e euclidean distance is used as the heuristic\n",
    "            self.h = math.sqrt((g_x - self.x)**2 + (g_y - self.y)**2)\n",
    "            # same exp as in dec_weight_m\n",
    "            if self.g < (2*weight - 1) * self.h:\n",
    "                self.f = self.g / (2*weight - 1) + self.h\n",
    "            else:\n",
    "                self.f = (self.g + self.h) / weight\n",
    "        if heuristic == 'dec_weight_c':\n",
    "            # chebyshev distance is used as the heuristic\n",
    "            self.h = max(abs(g_x - self.x), abs(g_y - self.y))\n",
    "            # same explanation as dec_weight_m\n",
    "            if self.g < (2*weight - 1) * self.h:\n",
    "                self.f = self.g / (2*weight - 1) + self.h\n",
    "            else:\n",
    "                self.f = (self.g + self.h) / weight\n",
    "        if heuristic == 'inc_weight_m':\n",
    "            # This is also an adaptive weight technique, but instead of decreasing weight as we move along the \n",
    "            # path, we assign more weight to h.\n",
    "            self.h = abs(g_x - self.x) + abs(g_y - self.y)\n",
    "            if self.g < self.h:\n",
    "                self.f = self.g + self.h\n",
    "            else:\n",
    "                self.f = self.g + (2*weight-1)*self.h \n",
    "        if heuristic == 'g':\n",
    "            # Toal greedy approach used in q4 to compare the speeds of A* and greedy best first search algorithm.\n",
    "            # manhattan distance is used as heuristic\n",
    "            self.h = abs(g_x - self.x) + abs(g_y - self.y)\n",
    "            self.f = self.h"
   ]
  },
  {
   "cell_type": "code",
   "execution_count": 3,
   "id": "4f2703be",
   "metadata": {},
   "outputs": [],
   "source": [
    "# Class grid_world -> This class is used to generate a grid world of dimension dim with each cell having \n",
    "# probability p of being blocked.\n",
    "class grid_world:\n",
    "    def __init__(self,p,dim):\n",
    "        self.p = p # probability with which the cell is blocked\n",
    "        self.dim = dim # dimension of the grid (dim x dim)\n",
    "    def gen_grid(self,matrix):\n",
    "        '''This function is used to generate the grid. The grid is returned in the form of list of list.'''\n",
    "        for i in range(self.dim): # looping over the dimension to generate rows of cells\n",
    "            a = [] # store a row of the grid of len dim\n",
    "            for j in range(self.dim): # looping over the dim to generate cols of cells\n",
    "                c = cell(i,j) # cell for coordinates (i,j)\n",
    "                chance = random.uniform(0,1) \n",
    "                # generating a random number between 0 and 1 from uniform distribution, if its less than p \n",
    "                # the cell is blocked else the cell is unblocked.\n",
    "                if i == 0 and j == 0: # [0,0] is the start cell location so don't want to block it, simply append\n",
    "                    # and continue.\n",
    "                    a.append(c)\n",
    "                    continue\n",
    "                if i == self.dim-1 and j == self.dim-1: #[dim-1, dim-1] is the goal cell location, so don't want to\n",
    "                    # block it simply append and continue\n",
    "                    a.append(c)\n",
    "                    continue\n",
    "                # if the number generated is less than or equal to p, block the cell.\n",
    "                if(chance <= self.p):\n",
    "                    c.blocked = True\n",
    "                        \n",
    "                a.append(c) # append the cell to the row\n",
    "            matrix.append(a) # append the row to the grid\n",
    "        return matrix # return the final grid"
   ]
  },
  {
   "cell_type": "code",
   "execution_count": 4,
   "id": "8d095466",
   "metadata": {},
   "outputs": [],
   "source": [
    "def gen_env(p, dim):\n",
    "    '''Function to generate the enviornment with probability of blockage p and dimension = dim x dim'''\n",
    "    temp = grid_world(p, dim)\n",
    "    grid = temp.gen_grid([])\n",
    "    return grid"
   ]
  },
  {
   "cell_type": "code",
   "execution_count": 5,
   "id": "5f74b53b",
   "metadata": {},
   "outputs": [],
   "source": [
    "def disp_grid(grid):\n",
    "    '''Since our grid is a list of list of cells simply printing it does not work. This function prints the \n",
    "    grid with blockage as x and a cell on which we can travel as -'''\n",
    "    l = []\n",
    "    for i in range(len(grid)):\n",
    "        a = []\n",
    "        for j in range(len(grid)):\n",
    "            if grid[i][j].blocked:\n",
    "                a.append('x')\n",
    "            else:\n",
    "                a.append('-')\n",
    "        l.append(a)\n",
    "    return l"
   ]
  },
  {
   "cell_type": "markdown",
   "id": "7e6f3ccc",
   "metadata": {},
   "source": [
    "#### BFS and repeated BFS"
   ]
  },
  {
   "cell_type": "code",
   "execution_count": 6,
   "id": "5c2e7a8e",
   "metadata": {},
   "outputs": [],
   "source": [
    "def BFS(grid,start_cell_ind,goal_cell_ind):\n",
    "    '''This function runs BFS on the grid. Returns the path and the number of cells processed.'''\n",
    "    cells_processed = 0 # number of cells popped from the fringe before reaching the goal. \n",
    "    start_cell = grid[start_cell_ind[0]][start_cell_ind[1]] # start cell of our grid.\n",
    "    goal_cell = grid[goal_cell_ind[0]][goal_cell_ind[1]] # goal cell of our grid\n",
    "    open_list = queue.Queue() # fringe, we have used a normal queue as the fringe as pop and push is O(1) and \n",
    "    # we don't need to update priorities as in BFS we go level by level.\n",
    "    parent_dict = {} # stores parent child relationship\n",
    "    visited = set() # Used to store if a node has already been visited or not\n",
    "    open_list.put((start_cell.x, start_cell.y)) # pushing the start node to the fringe.\n",
    "    visited.add((start_cell.x, start_cell.y)) # adding the start node to the visited set.\n",
    "    while not open_list.empty(): # looping over the fringe until it becomes empty\n",
    "        cl = open_list.get() # pop the left most element in the queue since lowest g value\n",
    "        curr_cell = grid[cl[0]][cl[1]] # since we store the index in the queue we get the cell from real_world_grid\n",
    "        cells_processed += 1 # cells_processed increased as we popped from the queue\n",
    "        if curr_cell == goal_cell: \n",
    "            # If we reach the goal cell backtrack using the parent dictionary to the start cell and store all the \n",
    "            # nodes along this path in a list and return that list (This is the path we took in BFS).\n",
    "            path = []\n",
    "            curr = curr_cell\n",
    "            while (curr.x, curr.y) != (start_cell_ind[0], start_cell_ind[1]):\n",
    "                path.append([curr.x, curr.y])\n",
    "                curr = parent_dict[(curr.x, curr.y)]\n",
    "            path.append([curr.x,curr.y])\n",
    "            return path[::-1], cells_processed\n",
    "        children = [] # Used to store all possible valid children of the current node.\n",
    "        for new_pos in [(0,1),(0,-1),(1,0),(-1,0)]: # We have assumed compass direction view for each cell in the grid.\n",
    "            node_pos = (curr_cell.x+new_pos[0], curr_cell.y+new_pos[1]) # position of the children\n",
    "            if(node_pos[0] > len(grid)-1 or node_pos[1] > len(grid)-1 or node_pos[0] < 0 or node_pos[1] < 0):\n",
    "                # If the position is not valid i.e. not inside the grid continue.\n",
    "                continue\n",
    "            if(grid[node_pos[0]][node_pos[1]].blocked):\n",
    "                # If the child is blocked no need to consider it.\n",
    "                continue\n",
    "            if((node_pos[0], node_pos[1]) in visited):\n",
    "                # In BFS if a node is already visited no need to consider it.\n",
    "                continue\n",
    "            # If a child Fails all the above conditions store it in the children list, it is a child who is not \n",
    "            # blocked, previously visited and is a part of the grid.\n",
    "            children.append(grid[node_pos[0]][node_pos[1]])\n",
    "        if(children == []): # If no valid children of a node continue.\n",
    "            continue\n",
    "        for child in children:\n",
    "            open_list.put((child.x, child.y)) # add the child to the fringe\n",
    "            parent_dict[(child.x, child.y)] = curr_cell # update the parent of the child\n",
    "            visited.add((child.x, child.y)) # add the child to the visited list.\n",
    "    return [], 0"
   ]
  },
  {
   "cell_type": "code",
   "execution_count": 7,
   "id": "604cded1",
   "metadata": {},
   "outputs": [],
   "source": [
    "def repeated_BFS(bot_env, real_world_grid, start_cell_ind, goal_cell_ind, final_discovered_grid_world, limited_view = False):\n",
    "    '''This is the function to apply repeated BFS to an unkonwn envioenment. The bot_env passed in the function \n",
    "    is the current knowledge of the enviornement everything is assumed unblocked initially, real_world_grid is the actual enviornment and the \n",
    "    final_discovered gridworld is all of the enviornment which the agent has seen rest of all the \n",
    "    enviornment is blocked, initially everything in this grid is assumed to be blocked. limited_view parameter is used when the bot can only see in the direction it is \n",
    "    moving (Q7).'''\n",
    "    paths = [] # Used to store all the path returned by repeated BFS.\n",
    "    cp = 0 # Total number of cells processed by repeated BFS\n",
    "    while(1): # Run while loop until termination\n",
    "        # The termination conditions are : (1) if the goal state is reached (2) If the grid is not solveable\n",
    "        path, cells_processed = BFS(bot_env, start_cell_ind, goal_cell_ind) #Run BFS on the bot_env containing all the knowledge the bot has acquired until now\n",
    "        cp += cells_processed # add number of cells processed in BFS\n",
    "        if(path == []): # If the path returned by BFS is empty the maze is not solveable.\n",
    "            print(\"Maze is not solveable\")\n",
    "            break\n",
    "        else: # If there is a path\n",
    "            if not limited_view:\n",
    "                # If we do not want the agent to have limited view call explore_path function, in this function \n",
    "                # we move on the path returned by BFS and update the knowledge of the enviornment \n",
    "                # in final_discovered_gridworld and bot_env\n",
    "                # We return from explore_path the point till which we were able to explore the path returned by\n",
    "                # BFS.\n",
    "                p = explore_path(path,bot_env,real_world_grid, final_discovered_grid_world)\n",
    "            else:\n",
    "                # Call explore path with limited view since the agents field of view is limited. Works in the same\n",
    "                # was as explore_path.\n",
    "                p = explore_path_with_limited_view(path,bot_env,real_world_grid, final_discovered_grid_world)\n",
    "            # append the path from start till the point till which we could travel in paths.\n",
    "            paths.append(p)\n",
    "            # If we reached the goal node without encountering the block return since the last index in p list \n",
    "            # will be goal cell in that case.\n",
    "            if p[-1] == goal_cell_ind:\n",
    "                return paths, cp\n",
    "            # If we encountered a block and did not reach goal node re-run BFS with start node updated \n",
    "            # to the last unblocked cell along the path\n",
    "            else:\n",
    "                start_cell_ind = p[-1]"
   ]
  },
  {
   "cell_type": "markdown",
   "id": "3112d537",
   "metadata": {},
   "source": [
    "#### Astar"
   ]
  },
  {
   "cell_type": "code",
   "execution_count": 8,
   "id": "8c30f4c7",
   "metadata": {},
   "outputs": [],
   "source": [
    "def Astar(grid,start_cell_ind,goal_cell_ind, heuristic, weight = 1):\n",
    "    cells_processed = 0 # number of cells popped from the fringe before reaching the goal.\n",
    "    number_of_clashes = 0 # number of time we had to update priorities in the fringe.\n",
    "    start_cell = grid[start_cell_ind[0]][start_cell_ind[1]] # start cell of our grid.\n",
    "    goal_cell = grid[goal_cell_ind[0]][goal_cell_ind[1]] # goal cell of our grid\n",
    "    open_list = SortedSet() # fringe, we have used sorted set as our priority queue\n",
    "    close_list = set() # contains cells already processed, have used set for this purpose (O(1) lookup on average)\n",
    "    parent_dict = {} # stores parent child relationship, using dictionary for this\n",
    "    visited = set() # child already visited, using set for this purpose (O(1) lookup on average)\n",
    "    start_cell.g = 0 # Setting the g value of the start cell to 0\n",
    "    # setting the h and f value of the start cell using the weight and heuristic passed in the function arguments.\n",
    "    # weight is for q9\n",
    "    start_cell.set_h_value(goal_cell_ind[0], goal_cell_ind[1], heuristic, weight)\n",
    "    open_list.add((start_cell.f, start_cell.h, (start_cell.x, start_cell.y))) # adding the start cell to the priority queue\n",
    "    # In the queue we are pushing a tuple whose first coordinate is the f value, second coordinate is the h value \n",
    "    # then a tuple containing the location of the cell. The priority is set according to the f value in case of a \n",
    "    # tie h value is seen.\n",
    "    visited.add((start_cell.x, start_cell.y)) # updating the visited set as we are pushing the node in priority queue\n",
    "    while len(open_list)>0: # loop over the priority queue until it is not empty or we reach the goal node\n",
    "        cl = open_list.pop(0) # pop the node with the least priority (it is at index 0 in the sorted set)\n",
    "        curr_cell = grid[cl[-1][0]][cl[-1][1]] # the last index in cl contains the x and y coordinates, \n",
    "        # storing the node popped from the queue in curr_cell.\n",
    "        cells_processed += 1 # incrementing the number of cells processed (since we just popped from the queue)\n",
    "        close_list.add((curr_cell.x, curr_cell.y)) # adding the node to the closed list as it is about to be processed\n",
    "        if curr_cell == goal_cell: \n",
    "            # If the curr cell is the goal cell return the path from the curr cell to goal cell by backtracking \n",
    "            # from goal cell to curr cell using the parent dictionary as well as all the nodes \n",
    "            # that have been processed uptil now.\n",
    "            path = []\n",
    "            curr = curr_cell\n",
    "            while (curr.x, curr.y) != (start_cell_ind[0], start_cell_ind[1]):\n",
    "                path.append([curr.x, curr.y])\n",
    "                curr = parent_dict[(curr.x, curr.y)]\n",
    "            path.append([curr.x,curr.y])\n",
    "            return path[::-1], cells_processed, number_of_clashes\n",
    "        \n",
    "        children = [] # This list is used to store all the possible valid children of the cell \n",
    "        # currently being processed.\n",
    "        for new_pos in [(0,1),(0,-1),(1,0),(-1,0)]: # 4 main compass directions, field of view also the agent can \n",
    "            # only move to these locations\n",
    "            node_pos = (curr_cell.x+new_pos[0], curr_cell.y+new_pos[1]) # position of the child\n",
    "            if(node_pos[0] > len(grid)-1 or node_pos[1] > len(grid)-1 or node_pos[0] < 0 or node_pos[1] < 0):\n",
    "                # if the child is not part of the grid continue\n",
    "                continue\n",
    "            if(grid[node_pos[0]][node_pos[1]].blocked):\n",
    "                # if the child is blocked continue\n",
    "                continue\n",
    "            if((node_pos[0], node_pos[1]) in close_list):\n",
    "                # if child is in close list continue\n",
    "                continue\n",
    "            if((node_pos[0], node_pos[1]) in visited):\n",
    "                # if the child is already visited then compare the previous cost(f) to the new cost(f) and if the\n",
    "                # new cost is lower update the priority of the child in the priority queue, update the \n",
    "                # parent dictionary and update the g value of the node.\n",
    "                if curr_cell.g + 1 + grid[node_pos[0]][node_pos[1]].h < grid[node_pos[0]][node_pos[1]].f:\n",
    "                    number_of_clashes += 1 # increment the number of clashes by 1\n",
    "                    # To update the priority we remove the node from the sorted set (O(logn)) and reinsert with \n",
    "                    # new priority O(log(n)). \n",
    "                    open_list.remove((grid[node_pos[0]][node_pos[1]].f, grid[node_pos[0]][node_pos[1]].h, (grid[node_pos[0]][node_pos[1]].x, grid[node_pos[0]][node_pos[1]].y)))\n",
    "                    grid[node_pos[0]][node_pos[1]].g = curr_cell.g+1\n",
    "                    grid[node_pos[0]][node_pos[1]].set_h_value(goal_cell_ind[0], goal_cell_ind[1], heuristic, weight)\n",
    "                    open_list.add((grid[node_pos[0]][node_pos[1]].f, grid[node_pos[0]][node_pos[1]].h, (grid[node_pos[0]][node_pos[1]].x, grid[node_pos[0]][node_pos[1]].y)))\n",
    "                    parent_dict[(node_pos[0],node_pos[1])] = curr_cell # updating the parent dictionary\n",
    "            else:\n",
    "                # If the child is not visited update its g value, set its h and f value and add it to the \n",
    "                # children list after updating its parent.\n",
    "                grid[node_pos[0]][node_pos[1]].g = curr_cell.g + 1\n",
    "                grid[node_pos[0]][node_pos[1]].set_h_value(goal_cell_ind[0], goal_cell_ind[1], heuristic, weight)\n",
    "                children.append(grid[node_pos[0]][node_pos[1]])\n",
    "                parent_dict[(node_pos[0],node_pos[1])] = curr_cell\n",
    "        if(children == []): # If no valid child continue\n",
    "            continue\n",
    "        for child in children: # else if valid children exist add them to the open list and update the visited set.\n",
    "            open_list.add((child.f,child.h, (child.x, child.y)))\n",
    "            visited.add((child.x, child.y))\n",
    "    \n",
    "    return [], 0, 0"
   ]
  },
  {
   "cell_type": "markdown",
   "id": "79803e8c",
   "metadata": {},
   "source": [
    "#### Explore path function"
   ]
  },
  {
   "cell_type": "code",
   "execution_count": 9,
   "id": "5c537354",
   "metadata": {},
   "outputs": [],
   "source": [
    "# function to explore the path returned by A* algorithm. Update the bot_env and final_discovered_grid_world \n",
    "def explore_path(path,bot_env ,grid, final_discovered_grid_world):\n",
    "    '''This functions helps move the agent along the path returned by A*. We update the bot enviornment and final \n",
    "    discovered grid world as the agent moves along the path. This function returns when the agent encounters a block \n",
    "    along the path or reaches the goal.'''\n",
    "    # path is a list of list -> [[0,0], [0,2]......]\n",
    "    for i in range(len(path)): # looping over the path list\n",
    "        x = path[i][0] # x coordinate of the cell in the path \n",
    "        y = path[i][1] # y coordinate of the cell in the path\n",
    "        # updating the information in the bot_env of the curr_cell\n",
    "        bot_env[x][y].x = grid[x][y].x\n",
    "        bot_env[x][y].y = grid[x][y].y\n",
    "        bot_env[x][y].blocked = grid[x][y].blocked\n",
    "        # updating the information in the final discovered grid world of the curr_cell\n",
    "        final_discovered_grid_world[x][y].x = grid[x][y].x\n",
    "        final_discovered_grid_world[x][y].y = grid[x][y].y\n",
    "        final_discovered_grid_world[x][y].blocked = grid[x][y].blocked\n",
    "        \n",
    "        if(grid[x][y].blocked): # if we encounter the blocked cell return the path till the last unblocked cell\n",
    "            return path[:i]\n",
    "        #this function is assumed that the agent has 4 main directions of a compass as field of view\n",
    "        for new_pos in [(0,1),(0,-1),(1,0),(-1,0)]: # In this loop we are updating the information in the bot_env\n",
    "            # and final_discovered_gridworld for all the valid children of curr cell.\n",
    "            node_pos = (x+new_pos[0], y+new_pos[1])#position of the child\n",
    "            if(node_pos[0] > len(grid)-1 or node_pos[1] > len(grid)-1 or node_pos[0] < 0 or node_pos[1] < 0):\n",
    "                # if the child is not part of the grid continue\n",
    "                continue\n",
    "            # update information for the child in bot_env and final discovered grid world.\n",
    "            bot_env[node_pos[0]][node_pos[1]].x = grid[node_pos[0]][node_pos[1]].x\n",
    "            bot_env[node_pos[0]][node_pos[1]].y = grid[node_pos[0]][node_pos[1]].y\n",
    "            bot_env[node_pos[0]][node_pos[1]].blocked = grid[node_pos[0]][node_pos[1]].blocked\n",
    "            final_discovered_grid_world[node_pos[0]][node_pos[1]].x = grid[node_pos[0]][node_pos[1]].x\n",
    "            final_discovered_grid_world[node_pos[0]][node_pos[1]].y = grid[node_pos[0]][node_pos[1]].y\n",
    "            final_discovered_grid_world[node_pos[0]][node_pos[1]].blocked = grid[node_pos[0]][node_pos[1]].blocked\n",
    "    return path"
   ]
  },
  {
   "cell_type": "code",
   "execution_count": 10,
   "id": "c4681e22",
   "metadata": {},
   "outputs": [],
   "source": [
    "#function to explore path returned by A* algorithm with limited field of view (the bot can only see in the direction of its movement along the path). \n",
    "def explore_path_with_limited_view(path,bot_env ,grid, final_discovered_grid_world):\n",
    "    '''\n",
    "    This function helps move the agent along the path returned by A* with unidirectional field of view. The bot environment\n",
    "    and final discovered grid world are updated with status of cells along the path traversed.\n",
    "    '''\n",
    "    for i in range(len(path)): #looping over path list\n",
    "        x = path[i][0] # x coordinate of the current node\n",
    "        y = path[i][1] # y coordinate of the current node\n",
    "        \n",
    "        #update the bot environment and final discovered grid \n",
    "        bot_env[x][y].x = grid[x][y].x \n",
    "        bot_env[x][y].y = grid[x][y].y\n",
    "        bot_env[x][y].blocked = grid[x][y].blocked\n",
    "        final_discovered_grid_world[x][y].x = grid[x][y].x\n",
    "        final_discovered_grid_world[x][y].y = grid[x][y].y\n",
    "        final_discovered_grid_world[x][y].blocked = grid[x][y].blocked\n",
    "        \n",
    "        if(grid[x][y].blocked): #if the current node is blocked node, return the path traversed till now.\n",
    "            return path[:i]\n",
    "    \n",
    "    return path"
   ]
  },
  {
   "cell_type": "code",
   "execution_count": 11,
   "id": "714e0a88",
   "metadata": {},
   "outputs": [],
   "source": [
    "# function to explore path with improvement \n",
    "def explore_path_with_imp(path,bot_env ,grid, final_discovered_grid_world):\n",
    "    '''\n",
    "    This function is the solution to question 8 of the assignment which asks to improve the explore path algorithm \n",
    "    by finding a better position to restart the A* algorithm along the path the agent came from.    \n",
    "    '''\n",
    "    last_ind_with_option = [0,0] # stores the last index which had other possibilities to explore\n",
    "    for i in range(len(path)): # loop over all the coordinates in path\n",
    "        \n",
    "        x = path[i][0]  #x coordinate of the first node\n",
    "        y = path[i][1]  # y coordinate of the first node \n",
    "        # update the bot environment and final discovered grid world\n",
    "        bot_env[x][y].x = grid[x][y].x  \n",
    "        bot_env[x][y].y = grid[x][y].y\n",
    "        bot_env[x][y].blocked = grid[x][y].blocked\n",
    "        final_discovered_grid_world[x][y].x = grid[x][y].x\n",
    "        final_discovered_grid_world[x][y].y = grid[x][y].y\n",
    "        final_discovered_grid_world[x][y].blocked = grid[x][y].blocked\n",
    "        \n",
    "        # if blocked cell is encountered, return the path traversed till now along with the location of last possible \n",
    "        # cell to restart A* from.\n",
    "        if(grid[x][y].blocked):\n",
    "            return path[:i], last_ind_with_option\n",
    "\n",
    "        for new_pos in [(0,1),(0,-1),(1,0),(-1,0)]:   # explore the children of the current node\n",
    "\n",
    "            node_pos = (x+new_pos[0], y+new_pos[1])\n",
    "            # if the child node is not valid, continue.\n",
    "            if(node_pos[0] > len(grid)-1 or node_pos[1] > len(grid)-1 or node_pos[0] < 0 or node_pos[1] < 0):\n",
    "                continue\n",
    "            #update the bot environment and final discovered grid world\n",
    "            bot_env[node_pos[0]][node_pos[1]].x = grid[node_pos[0]][node_pos[1]].x\n",
    "            bot_env[node_pos[0]][node_pos[1]].y = grid[node_pos[0]][node_pos[1]].y\n",
    "            bot_env[node_pos[0]][node_pos[1]].blocked = grid[node_pos[0]][node_pos[1]].blocked\n",
    "            final_discovered_grid_world[node_pos[0]][node_pos[1]].x = grid[node_pos[0]][node_pos[1]].x\n",
    "            final_discovered_grid_world[node_pos[0]][node_pos[1]].y = grid[node_pos[0]][node_pos[1]].y\n",
    "            final_discovered_grid_world[node_pos[0]][node_pos[1]].blocked = grid[node_pos[0]][node_pos[1]].blocked\n",
    "            \n",
    "            if i-1 > 0: #if the current child is the node which we came from, continue.\n",
    "                if (node_pos[0] == path[i-1][0] and node_pos[1] == path[i-1][1]):\n",
    "                    continue\n",
    "            if i+1 < len(path): #if the current child is the next node in the path, continue.\n",
    "                if (node_pos[1] == path[i+1][0] and node_pos[1] == path[i+1][1]):\n",
    "                    continue\n",
    "            \n",
    "            if(grid[node_pos[0]][node_pos[1]].blocked): #if the child is a blocked node, continue.\n",
    "                continue\n",
    "            \n",
    "            last_ind_with_option = [x,y] # Update the last index with option to the current node in the path. Since it has a child which is not explored by the path. Restarting A* from here we can explore that path.\n",
    "        \n",
    "        \n",
    "    return path, 0  # return the path, index of last best option to restart A* from and location ((x,y) coordinate) of the best option  "
   ]
  },
  {
   "cell_type": "markdown",
   "id": "8ff154d3",
   "metadata": {},
   "source": [
    "#### Repeated A*"
   ]
  },
  {
   "cell_type": "code",
   "execution_count": 12,
   "id": "8e959b33",
   "metadata": {},
   "outputs": [],
   "source": [
    "# function to implement the A* algorithm\n",
    "def repeated_astar(bot_env, real_world_grid, start_cell_ind, goal_cell_ind, heuristic, final_discovered_grid_world, limited_view = False, weight=1, imp = False):\n",
    "    '''\n",
    "    This function is the implementation of the repeated A* algorithm. This function calls A* algorithm whenver a \n",
    "    blocked cell is encountered along the path returned by A*.\n",
    "    '''\n",
    "    \n",
    "    paths = [] # stores the path to be returned.\n",
    "    cp = 0  # keeps count of the total number of cells processed in each A* call.\n",
    "    added_cost = 0  # cost of backtracking to the previous best node. Used for q8.\n",
    "    #while the A* algorithm doesn't return a path or the maze is found to be not solvable \n",
    "    while(1):\n",
    "        path, cells_processed, n_c = Astar(bot_env, start_cell_ind, goal_cell_ind, heuristic, weight) # call A* with current knowledge of the grid\n",
    "        cp += cells_processed # add the number of cells processed to the variable cp which keeps the total number of cells processed for each iteration of A*\n",
    "        if(path == []): # If A* doesn't return a path, path doesn't exist. Break from the loop and print \"Maze is not solvable\"\n",
    "            print(\"Maze is not solveable\")\n",
    "            break\n",
    "        else:  # If path exists, do this:\n",
    "            if imp:   # if the parameter imp is set to true: Which means the optimized explore path function is used (for question 8).  \n",
    "                # call explore path with improvement\n",
    "                p, last_ind_with_option = explore_path_with_imp(path,bot_env,real_world_grid, final_discovered_grid_world)\n",
    "            if not limited_view: # if the field of view is not limited\n",
    "                p = explore_path(path,bot_env,real_world_grid, final_discovered_grid_world) #explore path with complete field of view\n",
    "            else:\n",
    "                p = explore_path_with_limited_view(path,bot_env,real_world_grid, final_discovered_grid_world) #explore path with limited view\n",
    "            paths.append(p)  # append the path returned to paths  \n",
    "            if p[-1] == goal_cell_ind: # if the last cell is goal cell, return paths, cells processed and added cost\n",
    "                if imp:\n",
    "                    return paths, cp, added_cost\n",
    "                else:\n",
    "                    return paths, cp\n",
    "            else:    # if the last cell is not goal cell\n",
    "                if imp:   # if the imp is set to true update start cell index to last_index_with_option.\n",
    "                    start_cell_ind = last_ind_with_option\n",
    "                    for i in range(len(p)):\n",
    "                        if p[i] == last_ind_with_option:\n",
    "                            added_cost += len(p)-1-i\n",
    "                            break\n",
    "                else:     # else update the start cell to the last cell of the path traversed till now\n",
    "                    start_cell_ind = p[-1]"
   ]
  },
  {
   "cell_type": "code",
   "execution_count": 13,
   "id": "d3fd0b40",
   "metadata": {},
   "outputs": [],
   "source": [
    "#function to print path\n",
    "def print_path(paths):\n",
    "    '''\n",
    "    Function to print the path also we use it to get the final trajectory with backtracking taken by the agent. \n",
    "    '''\n",
    "    l = [[0,0]] # start from [0,0]\n",
    "    for path in paths: \n",
    "        l.extend(path[1:]) # extend the list with values of path \n",
    "    return l"
   ]
  },
  {
   "cell_type": "markdown",
   "id": "2a728378",
   "metadata": {},
   "source": [
    "### ------------------------------------------------------------------------------------------------------------------------------"
   ]
  },
  {
   "cell_type": "markdown",
   "id": "3e5e0bbe",
   "metadata": {},
   "source": [
    "#### Code for Q4"
   ]
  },
  {
   "cell_type": "code",
   "execution_count": 14,
   "id": "39f9a82e",
   "metadata": {},
   "outputs": [],
   "source": [
    "def is_solveable(grid, start_cell_ind, goal_cell_ind):\n",
    "    '''This function tests the solvability of the grid passed in function argument by applying A* on that grid.\n",
    "       If A* returns a path the maze is solvable else it is not solvable. \n",
    "    '''\n",
    "    path, nodes_explored, n_c = Astar(grid, start_cell_ind, goal_cell_ind, 'm')\n",
    "    if path == []:\n",
    "        return False\n",
    "    else:\n",
    "        return True"
   ]
  },
  {
   "cell_type": "code",
   "execution_count": 15,
   "id": "e5da792a",
   "metadata": {},
   "outputs": [],
   "source": [
    "def plot_density_solvebility():\n",
    "    '''This function makes 1000 grids for p values from 0 to 1 with an increment of 0.01 and keeps count of \n",
    "    number of solvable grids amoung those 1000. This also plots the graph of density vs solvability. Ans to q4.'''\n",
    "    p = 0 # density initially 0\n",
    "    x = {} # dictionary that keeps count of number of grids solvable for each p value.\n",
    "    while p <= 1: # iterating till value of p is less than or equal to 1\n",
    "        x[p] = 0 # storing the count of solvable grids in x[p]\n",
    "        for i in tqdm(range(1000)):\n",
    "            real_world_grid = gen_env(p,101)\n",
    "            if is_solveable(real_world_grid, [0,0], [100,100]): # check for solvability.\n",
    "                x[p] += 1 # since the grid is solveable we update the count in x[p]\n",
    "        p += 0.01\n",
    "    lists = sorted(x.items())\n",
    "    density, solvebility = zip(*lists) # making two lists from dictionary of density and solvebility\n",
    "    solvebility = list(solvebility)\n",
    "    density = list(density)\n",
    "    for i in range(len(solvebility)):\n",
    "        solvebility[i] = solvebility[i]/1000 # dividing the solvebility by 1000 to get a value between 0 to 1\n",
    "    \n",
    "    # Plotting the graph\n",
    "    plt.plot(density, solvebility)\n",
    "    plt.xticks(np.arange(0,1,0.1))\n",
    "    plt.yticks(np.arange(0,1,0.1))\n",
    "    plt.axvspan(0.3,0.3,color='red') # this marks the red lines in the graph after this most of the grids are not solveable.\n",
    "    plt.axhspan(0.5,0.5,color='red')\n",
    "    plt.xlabel('Density')\n",
    "    plt.ylabel('Solvebility')\n",
    "    return x"
   ]
  },
  {
   "cell_type": "code",
   "execution_count": 16,
   "id": "6d02567b",
   "metadata": {
    "scrolled": true
   },
   "outputs": [
    {
     "name": "stderr",
     "output_type": "stream",
     "text": [
      "100%|██████████| 1000/1000 [00:13<00:00, 74.74it/s]\n",
      "100%|██████████| 1000/1000 [00:14<00:00, 70.21it/s]\n",
      "100%|██████████| 1000/1000 [00:15<00:00, 64.92it/s]\n",
      "100%|██████████| 1000/1000 [00:15<00:00, 63.97it/s]\n",
      "100%|██████████| 1000/1000 [00:16<00:00, 61.85it/s]\n",
      "100%|██████████| 1000/1000 [00:17<00:00, 58.52it/s]\n",
      "100%|██████████| 1000/1000 [00:17<00:00, 58.71it/s]\n",
      "100%|██████████| 1000/1000 [00:17<00:00, 56.50it/s]\n",
      "100%|██████████| 1000/1000 [00:19<00:00, 51.90it/s]\n",
      "100%|██████████| 1000/1000 [00:19<00:00, 51.37it/s]\n",
      "100%|██████████| 1000/1000 [00:19<00:00, 52.60it/s]\n",
      "100%|██████████| 1000/1000 [00:19<00:00, 50.57it/s]\n",
      "100%|██████████| 1000/1000 [00:20<00:00, 49.32it/s]\n",
      "100%|██████████| 1000/1000 [00:20<00:00, 47.66it/s]\n",
      "100%|██████████| 1000/1000 [00:21<00:00, 45.97it/s]\n",
      "100%|██████████| 1000/1000 [00:21<00:00, 46.50it/s]\n",
      "100%|██████████| 1000/1000 [00:22<00:00, 45.14it/s]\n",
      "100%|██████████| 1000/1000 [00:23<00:00, 43.07it/s]\n",
      "100%|██████████| 1000/1000 [00:23<00:00, 42.01it/s]\n",
      "100%|██████████| 1000/1000 [00:23<00:00, 42.01it/s]\n",
      "100%|██████████| 1000/1000 [00:24<00:00, 41.60it/s]\n",
      "100%|██████████| 1000/1000 [00:24<00:00, 40.45it/s]\n",
      "100%|██████████| 1000/1000 [00:25<00:00, 39.28it/s]\n",
      "100%|██████████| 1000/1000 [00:24<00:00, 40.68it/s]\n",
      "100%|██████████| 1000/1000 [00:24<00:00, 40.06it/s]\n",
      "100%|██████████| 1000/1000 [00:26<00:00, 37.33it/s]\n",
      "100%|██████████| 1000/1000 [00:27<00:00, 37.02it/s]\n",
      "100%|██████████| 1000/1000 [00:30<00:00, 33.29it/s]\n",
      "100%|██████████| 1000/1000 [00:29<00:00, 34.44it/s]\n",
      "100%|██████████| 1000/1000 [00:29<00:00, 34.08it/s]\n",
      "100%|██████████| 1000/1000 [00:28<00:00, 35.40it/s]\n",
      "100%|██████████| 1000/1000 [00:28<00:00, 34.89it/s]\n",
      "100%|██████████| 1000/1000 [00:28<00:00, 34.50it/s]\n",
      "100%|██████████| 1000/1000 [00:28<00:00, 34.49it/s]\n",
      "100%|██████████| 1000/1000 [00:29<00:00, 34.07it/s]\n",
      "100%|██████████| 1000/1000 [00:27<00:00, 36.74it/s]\n",
      "100%|██████████| 1000/1000 [00:25<00:00, 39.20it/s]\n",
      "100%|██████████| 1000/1000 [00:23<00:00, 42.22it/s]\n",
      "100%|██████████| 1000/1000 [00:21<00:00, 47.39it/s]\n",
      "100%|██████████| 1000/1000 [00:18<00:00, 53.59it/s]\n",
      "100%|██████████| 1000/1000 [00:15<00:00, 63.47it/s]\n",
      "100%|██████████| 1000/1000 [00:13<00:00, 72.30it/s]\n",
      "100%|██████████| 1000/1000 [00:12<00:00, 77.09it/s]\n",
      "100%|██████████| 1000/1000 [00:12<00:00, 81.36it/s]\n",
      "100%|██████████| 1000/1000 [00:12<00:00, 83.21it/s]\n",
      "100%|██████████| 1000/1000 [00:11<00:00, 84.13it/s]\n",
      "100%|██████████| 1000/1000 [00:11<00:00, 83.79it/s]\n",
      "100%|██████████| 1000/1000 [00:12<00:00, 82.66it/s]\n",
      "100%|██████████| 1000/1000 [00:12<00:00, 82.51it/s]\n",
      "100%|██████████| 1000/1000 [00:12<00:00, 81.82it/s]\n",
      "100%|██████████| 1000/1000 [00:11<00:00, 83.78it/s]\n",
      "100%|██████████| 1000/1000 [00:11<00:00, 83.51it/s]\n",
      "100%|██████████| 1000/1000 [00:12<00:00, 83.14it/s]\n",
      "100%|██████████| 1000/1000 [00:11<00:00, 83.71it/s]\n",
      "100%|██████████| 1000/1000 [00:12<00:00, 83.24it/s]\n",
      "100%|██████████| 1000/1000 [00:11<00:00, 85.29it/s]\n",
      "100%|██████████| 1000/1000 [00:13<00:00, 75.94it/s]\n",
      "100%|██████████| 1000/1000 [00:12<00:00, 78.97it/s]\n",
      "100%|██████████| 1000/1000 [00:13<00:00, 75.43it/s]\n",
      "100%|██████████| 1000/1000 [00:11<00:00, 83.80it/s]\n",
      "100%|██████████| 1000/1000 [00:12<00:00, 80.57it/s]\n",
      "100%|██████████| 1000/1000 [00:12<00:00, 82.21it/s]\n",
      "100%|██████████| 1000/1000 [00:12<00:00, 79.99it/s]\n",
      "100%|██████████| 1000/1000 [00:12<00:00, 80.45it/s]\n",
      "100%|██████████| 1000/1000 [00:12<00:00, 80.79it/s]\n",
      "100%|██████████| 1000/1000 [00:12<00:00, 82.13it/s]\n",
      "100%|██████████| 1000/1000 [00:12<00:00, 79.43it/s]\n",
      "100%|██████████| 1000/1000 [00:12<00:00, 79.39it/s]\n",
      "100%|██████████| 1000/1000 [00:12<00:00, 83.15it/s]\n",
      "100%|██████████| 1000/1000 [00:12<00:00, 80.29it/s]\n",
      "100%|██████████| 1000/1000 [00:12<00:00, 80.43it/s]\n",
      "100%|██████████| 1000/1000 [00:12<00:00, 82.82it/s]\n",
      "100%|██████████| 1000/1000 [00:12<00:00, 80.35it/s]\n",
      "100%|██████████| 1000/1000 [00:11<00:00, 84.19it/s]\n",
      "100%|██████████| 1000/1000 [00:12<00:00, 83.09it/s]\n",
      "100%|██████████| 1000/1000 [00:11<00:00, 84.33it/s]\n",
      "100%|██████████| 1000/1000 [00:11<00:00, 83.71it/s]\n",
      "100%|██████████| 1000/1000 [00:11<00:00, 84.95it/s]\n",
      "100%|██████████| 1000/1000 [00:11<00:00, 83.53it/s]\n",
      "100%|██████████| 1000/1000 [00:11<00:00, 84.85it/s]\n",
      "100%|██████████| 1000/1000 [00:11<00:00, 84.49it/s]\n",
      "100%|██████████| 1000/1000 [00:11<00:00, 83.89it/s]\n",
      "100%|██████████| 1000/1000 [00:11<00:00, 83.67it/s]\n",
      "100%|██████████| 1000/1000 [00:11<00:00, 84.49it/s]\n",
      "100%|██████████| 1000/1000 [00:11<00:00, 85.50it/s]\n",
      "100%|██████████| 1000/1000 [00:12<00:00, 83.07it/s]\n",
      "100%|██████████| 1000/1000 [00:11<00:00, 83.68it/s]\n",
      "100%|██████████| 1000/1000 [00:11<00:00, 84.85it/s]\n",
      "100%|██████████| 1000/1000 [00:11<00:00, 83.98it/s]\n",
      "100%|██████████| 1000/1000 [00:11<00:00, 84.69it/s]\n",
      "100%|██████████| 1000/1000 [00:12<00:00, 82.50it/s]\n",
      "100%|██████████| 1000/1000 [00:11<00:00, 83.89it/s]\n",
      "100%|██████████| 1000/1000 [00:11<00:00, 84.14it/s]\n",
      "100%|██████████| 1000/1000 [00:11<00:00, 84.52it/s]\n",
      "100%|██████████| 1000/1000 [00:11<00:00, 85.01it/s]\n",
      "100%|██████████| 1000/1000 [00:11<00:00, 85.10it/s]\n",
      "100%|██████████| 1000/1000 [00:11<00:00, 84.89it/s]\n",
      "100%|██████████| 1000/1000 [00:11<00:00, 84.97it/s]\n",
      "100%|██████████| 1000/1000 [00:11<00:00, 84.89it/s]\n",
      "100%|██████████| 1000/1000 [00:11<00:00, 84.32it/s]\n"
     ]
    },
    {
     "data": {
      "image/png": "[encoded data removed]",
      "text/plain": [
       "<Figure size 432x288 with 1 Axes>"
      ]
     },
     "metadata": {
      "needs_background": "light"
     },
     "output_type": "display_data"
    }
   ],
   "source": [
    "x = plot_density_solvebility()"
   ]
  },
  {
   "cell_type": "code",
   "execution_count": 17,
   "id": "e8fe4c5b",
   "metadata": {
    "scrolled": true
   },
   "outputs": [
    {
     "data": {
      "text/plain": [
       "Text(0, 0.5, 'Solvebility')"
      ]
     },
     "execution_count": 17,
     "metadata": {},
     "output_type": "execute_result"
    },
    {
     "data": {
      "image/png": "[encoded data removed]",
      "text/plain": [
       "<Figure size 432x288 with 1 Axes>"
      ]
     },
     "metadata": {
      "needs_background": "light"
     },
     "output_type": "display_data"
    }
   ],
   "source": [
    "# Plotting the graph again.\n",
    "lists = sorted(x.items())\n",
    "density, solvebility = zip(*lists)\n",
    "solvebility = list(solvebility)\n",
    "density = list(density)\n",
    "for i in range(len(solvebility)):\n",
    "    solvebility[i] = solvebility[i]/1000\n",
    "\n",
    "plt.plot(density, solvebility)\n",
    "plt.xticks(np.arange(0,1,0.1))\n",
    "plt.yticks(np.arange(0,1,0.1))\n",
    "plt.axvspan(0.30,0.30,color='red')\n",
    "plt.axhspan(0.5,0.5,color='red')\n",
    "plt.xlabel('Density')\n",
    "plt.ylabel('Solvebility')"
   ]
  },
  {
   "cell_type": "code",
   "execution_count": 35,
   "id": "67017c64",
   "metadata": {},
   "outputs": [],
   "source": [
    "# Here we are comparing the performance of A* algorithm and greedy best first search algorithm in terms of\n",
    "# time on 50 grids.\n",
    "count = 0\n",
    "t1 = []\n",
    "t2 = []\n",
    "while(count < 50):\n",
    "    real_world_grid = gen_env(0.2, 101)\n",
    "    if(is_solveable(real_world_grid, [0,0], [100,100])):\n",
    "        count += 1\n",
    "        t = time.time()\n",
    "        path,cp, nc = Astar(real_world_grid, [0,0], [100,100], 'm')\n",
    "        t1.append(time.time()-t)\n",
    "        \n",
    "        t = time.time()\n",
    "        path,cp, nc = Astar(real_world_grid, [0,0], [100,100], 'g')\n",
    "        t2.append(time.time()-t)"
   ]
  },
  {
   "cell_type": "code",
   "execution_count": 36,
   "id": "d5a4d384",
   "metadata": {},
   "outputs": [
    {
     "data": {
      "text/plain": [
       "Text(0, 0.5, 'time in sec')"
      ]
     },
     "execution_count": 36,
     "metadata": {},
     "output_type": "execute_result"
    },
    {
     "data": {
      "image/png": "[encoded data removed]",
      "text/plain": [
       "<Figure size 432x288 with 1 Axes>"
      ]
     },
     "metadata": {
      "needs_background": "light"
     },
     "output_type": "display_data"
    }
   ],
   "source": [
    "plt.boxplot(t1)\n",
    "plt.ylabel('time in sec')"
   ]
  },
  {
   "cell_type": "code",
   "execution_count": 37,
   "id": "a667d7c8",
   "metadata": {},
   "outputs": [
    {
     "data": {
      "text/plain": [
       "Text(0, 0.5, 'time in sec')"
      ]
     },
     "execution_count": 37,
     "metadata": {},
     "output_type": "execute_result"
    },
    {
     "data": {
      "image/png": "[encoded data removed]",
      "text/plain": [
       "<Figure size 432x288 with 1 Axes>"
      ]
     },
     "metadata": {
      "needs_background": "light"
     },
     "output_type": "display_data"
    }
   ],
   "source": [
    "plt.boxplot(t2)\n",
    "plt.ylabel('time in sec')"
   ]
  },
  {
   "cell_type": "markdown",
   "id": "34b70cbb",
   "metadata": {},
   "source": [
    "### ------------------------------------------------------------------------------------------------------------------------------"
   ]
  },
  {
   "cell_type": "markdown",
   "id": "170ae464",
   "metadata": {},
   "source": [
    "#### Code for Q5"
   ]
  },
  {
   "cell_type": "code",
   "execution_count": 18,
   "id": "3a1a406e",
   "metadata": {
    "scrolled": true
   },
   "outputs": [
    {
     "name": "stderr",
     "output_type": "stream",
     "text": [
      "100%|██████████| 1000/1000 [01:17<00:00, 12.83it/s]\n"
     ]
    }
   ],
   "source": [
    "\"\"\"To compare the heuristics we compare their performace on 1000 grids with p values 0.3 in terms of time, \n",
    "path_length and number of times we had to update the priority of nodes in the priority queue (number of clashes).\"\"\"\n",
    "time_m = [] # list to store time it took for A* with manhattan heuristic to solve all grids\n",
    "time_e = [] # list to store time it took for A* with eucledian heuristic to solve all grids\n",
    "time_c = [] # list to store time it took for A* with chebyshev heuristic to solve all grids\n",
    "len_path_m = [] # list to store path length of path returned by A* with manhattan heuristic\n",
    "len_path_e = [] # list to store path length of path returned by A* with eucledian heuristic\n",
    "len_path_c = [] # list to store path length of path returned by A* with chebyshev heuristic\n",
    "c_m = [] # list to store number of clashes returned by A* with manhattan heuristic\n",
    "c_e = [] # list to store number of clashes returned by A* with eucledian heuristic\n",
    "c_c = [] # list to store number of clashes returned by A* with chebyshev heuristic\n",
    "for i in tqdm(range(1000)):\n",
    "    real_world_grid = gen_env(0.30, 101) # generating the grid with dim as 101 and density as 0.3\n",
    "    if is_solveable(real_world_grid, [0,0], [100,100]):\n",
    "        \n",
    "        start = time.time() # stores the current time in start variable\n",
    "        path_manhattan, nodes_exp_manhattan, n_c = Astar(real_world_grid, [0,0], [100,100], 'm') # running A* with manhattan heuristic on the grid\n",
    "        end = time.time() # stores the time when loop reached here in end\n",
    "        len_path_m.append(nodes_exp_manhattan) # appending the number of nodes explored by A*\n",
    "        time_m.append(end-start) # total execution time of A* = end - start\n",
    "        c_m.append(n_c) # appending number of collisions\n",
    "        \n",
    "        \n",
    "        start = time.time() # stores the current time in start variable\n",
    "        path_eucledian, nodes_exp_e, n_c = Astar(real_world_grid, [0,0], [100,100], 'e') # running A* with eucledian heuristic on the grid\n",
    "        end = time.time() # stores the time when loop reached here in end\n",
    "        len_path_e.append(nodes_exp_e) # appending the number of nodes explored by A*\n",
    "        time_e.append(end-start)# total execution time of A* = end - start\n",
    "        c_e.append(n_c)# appending number of collisions\n",
    "        \n",
    "        start = time.time() # stores the current time in start variable\n",
    "        path_c, nodes_exp_c, n_c = Astar(real_world_grid, [0,0], [100,100], 'c') # running A* with chebyshev heuristic on the grid\n",
    "        end = time.time() # stores the time when loop reached here in end\n",
    "        time_c.append(end-start)# total execution time of A* = end - start\n",
    "        len_path_c.append(nodes_exp_c)# appending the number of nodes explored by A*\n",
    "        c_c.append(n_c)# appending number of collisions"
   ]
  },
  {
   "cell_type": "markdown",
   "id": "0878540d",
   "metadata": {},
   "source": [
    "#### Printing the outputs"
   ]
  },
  {
   "cell_type": "code",
   "execution_count": 19,
   "id": "a440638e",
   "metadata": {},
   "outputs": [
    {
     "data": {
      "text/plain": [
       "1377.7029126213592"
      ]
     },
     "execution_count": 19,
     "metadata": {},
     "output_type": "execute_result"
    }
   ],
   "source": [
    "sum(len_path_m)/len(len_path_m) # Average path length manhattan"
   ]
  },
  {
   "cell_type": "code",
   "execution_count": 20,
   "id": "a05045c9",
   "metadata": {},
   "outputs": [
    {
     "data": {
      "text/plain": [
       "5619.615533980583"
      ]
     },
     "execution_count": 20,
     "metadata": {},
     "output_type": "execute_result"
    }
   ],
   "source": [
    "sum(len_path_e)/len(len_path_e) # Average path length eucledian"
   ]
  },
  {
   "cell_type": "code",
   "execution_count": 21,
   "id": "aedd8502",
   "metadata": {},
   "outputs": [
    {
     "data": {
      "text/plain": [
       "5727.168932038835"
      ]
     },
     "execution_count": 21,
     "metadata": {},
     "output_type": "execute_result"
    }
   ],
   "source": [
    "sum(len_path_c)/len(len_path_c) # Average path length Chebyshev"
   ]
  },
  {
   "cell_type": "code",
   "execution_count": 22,
   "id": "2a7437f8",
   "metadata": {},
   "outputs": [
    {
     "data": {
      "text/plain": [
       "0.011096418714060367"
      ]
     },
     "execution_count": 22,
     "metadata": {},
     "output_type": "execute_result"
    }
   ],
   "source": [
    "sum(time_m)/len(time_m) # Average time taken by manhattan to solve the grids"
   ]
  },
  {
   "cell_type": "code",
   "execution_count": 23,
   "id": "b0f3d6fc",
   "metadata": {},
   "outputs": [
    {
     "data": {
      "text/plain": [
       "0.041397328052705934"
      ]
     },
     "execution_count": 23,
     "metadata": {},
     "output_type": "execute_result"
    }
   ],
   "source": [
    "sum(time_e)/ len(time_e) # Average time taken by eucledian to solve the grids"
   ]
  },
  {
   "cell_type": "code",
   "execution_count": 24,
   "id": "b88a93f5",
   "metadata": {},
   "outputs": [
    {
     "data": {
      "text/plain": [
       "0.03928642226654349"
      ]
     },
     "execution_count": 24,
     "metadata": {},
     "output_type": "execute_result"
    }
   ],
   "source": [
    "sum(time_c)/ len(time_c) # Average time taken by chebyshev to solve the grids"
   ]
  },
  {
   "cell_type": "code",
   "execution_count": 25,
   "id": "1d9c2fc0",
   "metadata": {},
   "outputs": [
    {
     "data": {
      "text/plain": [
       "278.54368932038835"
      ]
     },
     "execution_count": 25,
     "metadata": {},
     "output_type": "execute_result"
    }
   ],
   "source": [
    "sum(c_m)/len(c_m) # number of collisions in manhattan"
   ]
  },
  {
   "cell_type": "code",
   "execution_count": 26,
   "id": "28f75cde",
   "metadata": {},
   "outputs": [
    {
     "data": {
      "text/plain": [
       "0.5786407766990291"
      ]
     },
     "execution_count": 26,
     "metadata": {},
     "output_type": "execute_result"
    }
   ],
   "source": [
    "sum(c_e)/len(c_e) # number of collisions in eucledian"
   ]
  },
  {
   "cell_type": "code",
   "execution_count": 27,
   "id": "b87a297e",
   "metadata": {},
   "outputs": [
    {
     "data": {
      "text/plain": [
       "216.75339805825243"
      ]
     },
     "execution_count": 27,
     "metadata": {},
     "output_type": "execute_result"
    }
   ],
   "source": [
    "sum(c_c)/len(c_c) # number of collisions in chebyshev"
   ]
  },
  {
   "cell_type": "code",
   "execution_count": 16,
   "id": "408f3358",
   "metadata": {},
   "outputs": [],
   "source": [
    "def disp_h_value(grid, goal_ind, heuristic):\n",
    "    '''Function to plot the grid with all cells with heuristic value. Used to comparing diff heuristics.'''\n",
    "    mat = []\n",
    "    for i in range(len(grid)):\n",
    "        a = []\n",
    "        for j in range(len(grid)):\n",
    "            grid[i][j].set_h_value(goal_ind[0], goal_ind[1], heuristic,1)\n",
    "            a.append(round(grid[i][j].h, 2))\n",
    "        mat.append(a)\n",
    "    return mat"
   ]
  },
  {
   "cell_type": "markdown",
   "id": "e973c222",
   "metadata": {},
   "source": [
    "#### Displaying 10x10 grids with different heuristic values"
   ]
  },
  {
   "cell_type": "code",
   "execution_count": 39,
   "id": "19fac765",
   "metadata": {},
   "outputs": [
    {
     "data": {
      "text/plain": [
       "[[18, 17, 16, 15, 14, 13, 12, 11, 10, 9],\n",
       " [17, 16, 15, 14, 13, 12, 11, 10, 9, 8],\n",
       " [16, 15, 14, 13, 12, 11, 10, 9, 8, 7],\n",
       " [15, 14, 13, 12, 11, 10, 9, 8, 7, 6],\n",
       " [14, 13, 12, 11, 10, 9, 8, 7, 6, 5],\n",
       " [13, 12, 11, 10, 9, 8, 7, 6, 5, 4],\n",
       " [12, 11, 10, 9, 8, 7, 6, 5, 4, 3],\n",
       " [11, 10, 9, 8, 7, 6, 5, 4, 3, 2],\n",
       " [10, 9, 8, 7, 6, 5, 4, 3, 2, 1],\n",
       " [9, 8, 7, 6, 5, 4, 3, 2, 1, 0]]"
      ]
     },
     "execution_count": 39,
     "metadata": {},
     "output_type": "execute_result"
    }
   ],
   "source": [
    "disp_h_value(gen_env(0,10),[9,9], 'm')"
   ]
  },
  {
   "cell_type": "code",
   "execution_count": 40,
   "id": "738f62a0",
   "metadata": {},
   "outputs": [
    {
     "data": {
      "text/plain": [
       "[[12.73, 12.04, 11.4, 10.82, 10.3, 9.85, 9.49, 9.22, 9.06, 9.0],\n",
       " [12.04, 11.31, 10.63, 10.0, 9.43, 8.94, 8.54, 8.25, 8.06, 8.0],\n",
       " [11.4, 10.63, 9.9, 9.22, 8.6, 8.06, 7.62, 7.28, 7.07, 7.0],\n",
       " [10.82, 10.0, 9.22, 8.49, 7.81, 7.21, 6.71, 6.32, 6.08, 6.0],\n",
       " [10.3, 9.43, 8.6, 7.81, 7.07, 6.4, 5.83, 5.39, 5.1, 5.0],\n",
       " [9.85, 8.94, 8.06, 7.21, 6.4, 5.66, 5.0, 4.47, 4.12, 4.0],\n",
       " [9.49, 8.54, 7.62, 6.71, 5.83, 5.0, 4.24, 3.61, 3.16, 3.0],\n",
       " [9.22, 8.25, 7.28, 6.32, 5.39, 4.47, 3.61, 2.83, 2.24, 2.0],\n",
       " [9.06, 8.06, 7.07, 6.08, 5.1, 4.12, 3.16, 2.24, 1.41, 1.0],\n",
       " [9.0, 8.0, 7.0, 6.0, 5.0, 4.0, 3.0, 2.0, 1.0, 0.0]]"
      ]
     },
     "execution_count": 40,
     "metadata": {},
     "output_type": "execute_result"
    }
   ],
   "source": [
    "disp_h_value(gen_env(0,10),[9,9],'e')"
   ]
  },
  {
   "cell_type": "code",
   "execution_count": 41,
   "id": "c43c1c98",
   "metadata": {},
   "outputs": [
    {
     "data": {
      "text/plain": [
       "[[9, 9, 9, 9, 9, 9, 9, 9, 9, 9],\n",
       " [9, 8, 8, 8, 8, 8, 8, 8, 8, 8],\n",
       " [9, 8, 7, 7, 7, 7, 7, 7, 7, 7],\n",
       " [9, 8, 7, 6, 6, 6, 6, 6, 6, 6],\n",
       " [9, 8, 7, 6, 5, 5, 5, 5, 5, 5],\n",
       " [9, 8, 7, 6, 5, 4, 4, 4, 4, 4],\n",
       " [9, 8, 7, 6, 5, 4, 3, 3, 3, 3],\n",
       " [9, 8, 7, 6, 5, 4, 3, 2, 2, 2],\n",
       " [9, 8, 7, 6, 5, 4, 3, 2, 1, 1],\n",
       " [9, 8, 7, 6, 5, 4, 3, 2, 1, 0]]"
      ]
     },
     "execution_count": 41,
     "metadata": {},
     "output_type": "execute_result"
    }
   ],
   "source": [
    "disp_h_value(gen_env(0,10), [9,9], 'c')"
   ]
  },
  {
   "cell_type": "markdown",
   "id": "c0068e99",
   "metadata": {},
   "source": [
    "### ------------------------------------------------------------------------------------------------------------------------------"
   ]
  },
  {
   "cell_type": "markdown",
   "id": "8155e51e",
   "metadata": {},
   "source": [
    "#### Code for Q6, Q7 and Extra Credit Problem of BFS"
   ]
  },
  {
   "cell_type": "code",
   "execution_count": null,
   "id": "647f2bc9",
   "metadata": {
    "scrolled": true
   },
   "outputs": [],
   "source": [
    "p = 0 # initial value of p, we iterate p from 0 to 0.30 at the increment of 0.01\n",
    "\n",
    "# The below four variables are for q6\n",
    "avg_trajectory_length_q6 = [] # This variable stores the average trajectory length we got for 1000 solvable mazes for each value of p\n",
    "avg_cell_processed_q6 = [] # This variable stores the average number of cells processed for 1000 solvable mazes for each value of p\n",
    "average_trajectory_sp_dg_q6 = [] # This variable stores the average ratio of trajectory length by shortest path in discovered grid world we got for 1000 solvable mazes for each value of p\n",
    "average_sp_dg_sp_cg_q6 = [] # This variable stores the average ratio of shortest path in discovered grid by shortest path in complete grid world world we got for 1000 solvable mazes for each value of p\n",
    "\n",
    "# stores diff p values used for plotting\n",
    "p_list = []\n",
    "\n",
    "# the below four variables are for q7\n",
    "avg_trajectory_length_q7 = []\n",
    "avg_cell_processed_q7 = []\n",
    "average_trajectory_sp_dg_q7 = []\n",
    "average_sp_dg_sp_cg_q7 = []\n",
    "\n",
    "# The below four variables are for q6 when we use repeated BFS\n",
    "avg_trajectory_length_q6_bfs = []\n",
    "avg_cell_processed_q6_bfs = []\n",
    "average_trajectory_sp_dg_q6_bfs = []\n",
    "average_sp_dg_sp_cg_q6_bfs = []\n",
    "\n",
    "# The below four variables are for q7 when we use repeated BFS\n",
    "avg_trajectory_length_q7_bfs = []\n",
    "avg_cell_processed_q7_bfs = []\n",
    "average_trajectory_sp_dg_q7_bfs = []\n",
    "average_sp_dg_sp_cg_q7_bfs = []\n",
    "\n",
    "pbar = tqdm(total = 31) # initializing a progress bar with max of 31 iterations\n",
    "while(p <= 0.31): # while p is less than equal to 0.31 calculate the above matrics for each p and store them in their respective variables\n",
    "    solve_count = 0 # we use this variable to maintain count of number of solvable matrices generated we terminate for each p when this count reaches 1000\n",
    "    trajectory_length = 0 # used to store the trajectory length we got after solving the grid\n",
    "    \n",
    "    # below four variables are for q6\n",
    "    tl_q6 = 0 # to store the sum of trajectory length we got for all 1000 grids\n",
    "    cell_processed_q6 = 0 # to store the sum of number of processed cell we got for all 1000 grid\n",
    "    tl_sp_dg_q6 = 0 # to store the sum of ratio of trajectory length with shortest path in discovered grid world we got for all 1000 grids\n",
    "    sp_dg_sp_cg_q6 = 0 # to store the sum of ratio of shortest path in complete grid world with shortest path in discovered grid world we got for all 1000 grids\n",
    "    \n",
    "    # below four variables are for q7\n",
    "    tl_q7 = 0\n",
    "    cell_processed_q7 = 0\n",
    "    tl_sp_dg_q7 = 0\n",
    "    sp_dg_sp_cg_q7 = 0\n",
    "    \n",
    "    # below four variables store the sum when we apply repeated bfs on q6\n",
    "    tl_q6_bfs = 0\n",
    "    cell_processed_q6_bfs = 0\n",
    "    tl_sp_dg_q6_bfs = 0\n",
    "    sp_dg_sp_cg_q6_bfs = 0\n",
    "    \n",
    "    # below four variables store the sum when we apply repeated bfs on q7\n",
    "    tl_q7_bfs = 0\n",
    "    cell_processed_q7_bfs = 0\n",
    "    tl_sp_dg_q7_bfs = 0\n",
    "    sp_dg_sp_cg_q7_bfs = 0\n",
    "    \n",
    "    while(solve_count < 1000): # while the count of solvable grids are less than 1000 for each value of p go in the loop\n",
    "        real_world_grid = gen_env(p,101) # generate a grid with dim 101 and density p\n",
    "        if(is_solveable(real_world_grid, [0,0], [100,100])): # if the grid is solvable do the processing else continue till you get a solvable grid\n",
    "            solve_count += 1 # increment the count of solvable grids\n",
    "            \n",
    "            bot_env = gen_env(0,101) # generate bot env to apply repeated A* on\n",
    "            final_discovered_grid_world = gen_env(1,101) # generate the final_discovered_gridworld to be updated in repeated A*\n",
    "            path,cp = repeated_astar(bot_env, real_world_grid, [0,0], [100,100], 'm', final_discovered_grid_world, False, 1, False) # apply repeated A* with complete field of view on the grid\n",
    "            trajectory_length = len(print_path(path)) # we use print path to get the final trajectory and store its length in the trajectory length variable for a single grid.\n",
    "            tl_q6 += trajectory_length # sum of all trajectory lengths uptil now\n",
    "            cell_processed_q6 += cp # summ of all cells processed uptil now\n",
    "            tl_sp_dg_q6 += trajectory_length/len(Astar(final_discovered_grid_world,[0,0],[100,100], 'm', weight=1)[0]) # sum of ratio uptil now, we find the shortest path by applying A* on the grid\n",
    "            sp_dg_sp_cg_q6 += len(Astar(final_discovered_grid_world,[0,0],[100,100], 'm',weight=1)[0])/ len(Astar(real_world_grid,[0,0],[100,100], 'm', weight=1)[0]) # sum of ratio uptil now\n",
    "            \n",
    "            bot_env = gen_env(0,101)\n",
    "            final_discovered_grid_world = gen_env(1,101)\n",
    "            path,cp = repeated_astar(bot_env, real_world_grid, [0,0], [100,100], 'm', final_discovered_grid_world, True, 1) # Apply A* with limited field of view, we have set the limited_view flag as True\n",
    "            trajectory_length = len(print_path(path))\n",
    "            tl_q7 += trajectory_length\n",
    "            cell_processed_q7 += cp\n",
    "            tl_sp_dg_q7 += trajectory_length/len(Astar(final_discovered_grid_world,[0,0],[100,100], 'm', weight=1)[0])\n",
    "            sp_dg_sp_cg_q7 += len(Astar(final_discovered_grid_world,[0,0],[100,100], 'm',weight=1)[0])/ len(Astar(real_world_grid,[0,0],[100,100], 'm', weight=1)[0])\n",
    "            \n",
    "            bot_env = gen_env(0,101)\n",
    "            final_discovered_grid_world = gen_env(1,101)\n",
    "            path,cp = repeated_BFS(bot_env, real_world_grid, [0,0], [100,100], final_discovered_grid_world, False) # Here We apply Repeated BFS\n",
    "            trajectory_length = len(print_path(path))\n",
    "            tl_q6_bfs += trajectory_length\n",
    "            cell_processed_q6_bfs += cp\n",
    "            tl_sp_dg_q6_bfs += trajectory_length/len(Astar(final_discovered_grid_world,[0,0],[100,100], 'm', weight=1)[0])\n",
    "            sp_dg_sp_cg_q6_bfs += len(Astar(final_discovered_grid_world,[0,0],[100,100], 'm',weight=1)[0])/ len(Astar(real_world_grid,[0,0],[100,100], 'm', weight=1)[0])\n",
    "            \n",
    "            bot_env = gen_env(0,101)\n",
    "            final_discovered_grid_world = gen_env(1,101)\n",
    "            path,cp = repeated_BFS(bot_env, real_world_grid, [0,0], [100,100], final_discovered_grid_world, True) # Here we apply repeated BFS with limited_view flag as True so the agent will have limited field of view\n",
    "            trajectory_length = len(print_path(path))\n",
    "            tl_q7_bfs += trajectory_length\n",
    "            cell_processed_q7_bfs += cp\n",
    "            tl_sp_dg_q7_bfs += trajectory_length/len(Astar(final_discovered_grid_world,[0,0],[100,100], 'm', weight=1)[0])\n",
    "            sp_dg_sp_cg_q7_bfs += len(Astar(final_discovered_grid_world,[0,0],[100,100], 'm',weight=1)[0])/ len(Astar(real_world_grid,[0,0],[100,100], 'm', weight=1)[0])\n",
    "            \n",
    "        else:\n",
    "            continue\n",
    "    p_list.append(p)\n",
    "    \n",
    "    # taking the average of each sum and storing them in their respective variables\n",
    "    avg_trajectory_length_q6.append(tl_q6/1000)\n",
    "    avg_cell_processed_q6.append(cell_processed_q6/1000)\n",
    "    average_trajectory_sp_dg_q6.append(tl_sp_dg_q6/1000)\n",
    "    average_sp_dg_sp_cg_q6.append(sp_dg_sp_cg_q6/1000)\n",
    "    \n",
    "    \n",
    "    avg_trajectory_length_q7.append(tl_q7/1000)\n",
    "    avg_cell_processed_q7.append(cell_processed_q7/1000)\n",
    "    average_trajectory_sp_dg_q7.append(tl_sp_dg_q7/1000)\n",
    "    average_sp_dg_sp_cg_q7.append(sp_dg_sp_cg_q7/1000)\n",
    "    \n",
    "    avg_trajectory_length_q6_bfs.append(tl_q6_bfs/1000)\n",
    "    avg_cell_processed_q6_bfs.append(cell_processed_q6_bfs/1000)\n",
    "    average_trajectory_sp_dg_q6_bfs.append(tl_sp_dg_q6_bfs/1000)\n",
    "    average_sp_dg_sp_cg_q6_bfs.append(sp_dg_sp_cg_q6_bfs/1000)\n",
    "    \n",
    "    avg_trajectory_length_q7_bfs.append(tl_q7_bfs/1000)\n",
    "    avg_cell_processed_q7_bfs.append(cell_processed_q7_bfs/1000)\n",
    "    average_trajectory_sp_dg_q7_bfs.append(tl_sp_dg_q7_bfs/1000)\n",
    "    average_sp_dg_sp_cg_q7_bfs.append(sp_dg_sp_cg_q7_bfs/1000)\n",
    "    \n",
    "    p += 0.01 # update p value\n",
    "    pbar.update(1) # update the progress bar\n",
    "pbar.close()"
   ]
  },
  {
   "cell_type": "markdown",
   "id": "6dab4a4a",
   "metadata": {},
   "source": [
    "#### Outputs"
   ]
  },
  {
   "cell_type": "markdown",
   "id": "7969077a",
   "metadata": {},
   "source": [
    "##### Trajectory length"
   ]
  },
  {
   "cell_type": "code",
   "execution_count": null,
   "id": "8f7b441a",
   "metadata": {},
   "outputs": [],
   "source": [
    "# Plot of average trajectory length for A* with 4 main compass direction as field of view\n",
    "plt.plot(p_list, avg_trajectory_length_q6)\n",
    "plt.xlabel('Density')\n",
    "plt.ylabel('Average Trajectory Length')"
   ]
  },
  {
   "cell_type": "code",
   "execution_count": null,
   "id": "571d6ae3",
   "metadata": {},
   "outputs": [],
   "source": [
    "# Plot of average trajectory length for A* with limited field of view\n",
    "plt.plot(p_list, avg_trajectory_length_q7)\n",
    "plt.xlabel('Density')\n",
    "plt.ylabel('Average Trajectory Length')"
   ]
  },
  {
   "cell_type": "code",
   "execution_count": null,
   "id": "d8aea106",
   "metadata": {},
   "outputs": [],
   "source": [
    "plt.plot(p_list, (np.array(avg_trajectory_length_q6) - np.array(avg_trajectory_length_q7)))\n",
    "plt.xlabel('Density')\n",
    "plt.ylabel('Diff in length of trajectory')"
   ]
  },
  {
   "cell_type": "code",
   "execution_count": null,
   "id": "85e9f295",
   "metadata": {},
   "outputs": [],
   "source": [
    "# Plot of average trajectory length for BFS with 4 main compass directions as field of view\n",
    "plt.plot(p_list, avg_trajectory_length_q6_bfs)\n",
    "plt.xlabel('Density')\n",
    "plt.ylabel('Average Trajectory Length')"
   ]
  },
  {
   "cell_type": "code",
   "execution_count": null,
   "id": "d0e5dd92",
   "metadata": {},
   "outputs": [],
   "source": [
    "# Plot of average trajectory length for BFS with limited field of view\n",
    "plt.plot(p_list, avg_trajectory_length_q7_bfs)\n",
    "plt.xlabel('Density')\n",
    "plt.ylabel('Average Trajectory Length')"
   ]
  },
  {
   "cell_type": "markdown",
   "id": "c7113791",
   "metadata": {},
   "source": [
    "##### Cells processed"
   ]
  },
  {
   "cell_type": "code",
   "execution_count": null,
   "id": "f5ea58b4",
   "metadata": {},
   "outputs": [],
   "source": [
    "# Plot of average cells processed for A* with 4 main compass direction as field of view\n",
    "plt.plot(p_list, avg_cell_processed_q6)\n",
    "plt.xlabel('Density')\n",
    "plt.ylabel('Avg cells processed')"
   ]
  },
  {
   "cell_type": "code",
   "execution_count": null,
   "id": "7bf86fd2",
   "metadata": {},
   "outputs": [],
   "source": [
    "# Plot of average cells processed for A* with limited field of view\n",
    "plt.plot(p_list, avg_cell_processed_q7)\n",
    "plt.xlabel('Density')\n",
    "plt.ylabel('Avg cells processed')"
   ]
  },
  {
   "cell_type": "code",
   "execution_count": null,
   "id": "84f231ad",
   "metadata": {},
   "outputs": [],
   "source": [
    "# Plot of average cells processed for BFS with 4 main compass direction as field of view\n",
    "plt.plot(p_list, avg_cell_processed_q6_bfs)\n",
    "plt.xlabel('Density')\n",
    "plt.ylabel('Avg cells processed')"
   ]
  },
  {
   "cell_type": "code",
   "execution_count": null,
   "id": "17775a37",
   "metadata": {},
   "outputs": [],
   "source": [
    "# Plot of average cells processed for BFS with limited field of view\n",
    "plt.plot(p_list, avg_cell_processed_q7_bfs)\n",
    "plt.xlabel('Density')\n",
    "plt.ylabel('Avg cells processed')"
   ]
  },
  {
   "cell_type": "markdown",
   "id": "91cb9255",
   "metadata": {},
   "source": [
    "##### Trajectory length vs shortest path in discovered gridworld"
   ]
  },
  {
   "cell_type": "code",
   "execution_count": null,
   "id": "eed61e61",
   "metadata": {},
   "outputs": [],
   "source": [
    "# Plot of average ratio of trajectory length by shortest path in discovered gridworld for A* with 4 main compass direction as field of view\n",
    "plt.plot(p_list, average_trajectory_sp_dg_q6)\n",
    "plt.xlabel('Density')\n",
    "plt.ylabel('Trajectory/SP in DG')"
   ]
  },
  {
   "cell_type": "code",
   "execution_count": null,
   "id": "d937b547",
   "metadata": {},
   "outputs": [],
   "source": [
    "# Plot of average ratio of trajectory length by shortest path in discovered gridworld for A* with limited field of view\n",
    "plt.plot(p_list, average_trajectory_sp_dg_q7)\n",
    "plt.xlabel('Density')\n",
    "plt.ylabel('Trajectory/SP in DG')"
   ]
  },
  {
   "cell_type": "code",
   "execution_count": null,
   "id": "7335eec0",
   "metadata": {},
   "outputs": [],
   "source": [
    "# Plot of average ratio of trajectory length by shortest path in discovered gridworld for BFS with 4 main compass direction as field of view\n",
    "plt.plot(p_list, average_trajectory_sp_dg_q6_bfs)\n",
    "plt.xlabel('Density')\n",
    "plt.ylabel('Trajectory/SP in DG')"
   ]
  },
  {
   "cell_type": "code",
   "execution_count": null,
   "id": "c512d82d",
   "metadata": {},
   "outputs": [],
   "source": [
    "# Plot of average ratio of trajectory length by shortest path in discovered gridworld for BFS with limited field of view\n",
    "plt.plot(p_list, average_trajectory_sp_dg_q7_bfs)\n",
    "plt.xlabel('Density')\n",
    "plt.ylabel('Trajectory/SP in DG')"
   ]
  },
  {
   "cell_type": "markdown",
   "id": "374dc116",
   "metadata": {},
   "source": [
    "##### SP in DG by SP in CG"
   ]
  },
  {
   "cell_type": "code",
   "execution_count": null,
   "id": "2298f1bc",
   "metadata": {},
   "outputs": [],
   "source": [
    "#Plot of average ratio of shortest path in discovered gridworld by shortest path in complete gridworld for A* with 4 main compass direction as field of view\n",
    "plt.plot(p_list, average_sp_dg_sp_cg_q6)\n",
    "plt.xlabel('Density')\n",
    "plt.ylabel('SP(Discovered Gridworld)/SP(Complete Gridworld)')"
   ]
  },
  {
   "cell_type": "code",
   "execution_count": null,
   "id": "e4ac471b",
   "metadata": {},
   "outputs": [],
   "source": [
    "#Plot of average ratio of shortest path in discovered gridworld by shortest path in complete gridworld for A* with limited field of view\n",
    "plt.plot(p_list, average_sp_dg_sp_cg_q7)\n",
    "plt.xlabel('Density')\n",
    "plt.ylabel('SP(Discovered Gridworld)/SP(Complete Gridworld)')"
   ]
  },
  {
   "cell_type": "code",
   "execution_count": null,
   "id": "e0f0593e",
   "metadata": {},
   "outputs": [],
   "source": [
    "#Plot of average ratio of shortest path in discovered gridworld by shortest path in complete gridworld for BFS with 4 main compass direction as field of view\n",
    "plt.plot(p_list, average_sp_dg_sp_cg_q6_bfs)\n",
    "plt.xlabel('Density')\n",
    "plt.ylabel('SP(Discovered Gridworld)/SP(Complete Gridworld)')"
   ]
  },
  {
   "cell_type": "code",
   "execution_count": null,
   "id": "f3712b5f",
   "metadata": {},
   "outputs": [],
   "source": [
    "#Plot of average ratio of shortest path in discovered gridworld by shortest path in complete gridworld for A* with limited field of view\n",
    "plt.plot(p_list, average_sp_dg_sp_cg_q7_bfs)\n",
    "plt.xlabel('Density')\n",
    "plt.ylabel('SP(Discovered Gridworld)/SP(Complete Gridworld)')"
   ]
  },
  {
   "cell_type": "markdown",
   "id": "92bd47db",
   "metadata": {},
   "source": [
    "### ------------------------------------------------------------------------------------------------------------------------------"
   ]
  },
  {
   "cell_type": "markdown",
   "id": "ae821b7b",
   "metadata": {},
   "source": [
    "#### Q8 comparsion of repeated A* with improvement and without improvement"
   ]
  },
  {
   "cell_type": "code",
   "execution_count": 17,
   "id": "f9920f16",
   "metadata": {},
   "outputs": [
    {
     "name": "stderr",
     "output_type": "stream",
     "text": [
      "100%|██████████| 7/7 [19:11<00:00, 164.44s/it]\n"
     ]
    }
   ],
   "source": [
    "p = 0\n",
    "\n",
    "avg_trajectory_length_q6 = []\n",
    "avg_cell_processed_q6 = []\n",
    "avg_time_q6 = []\n",
    "\n",
    "p_list = []\n",
    "\n",
    "avg_trajectory_length_q7 = []\n",
    "avg_cell_processed_q7 = []\n",
    "avg_time_q7 = []\n",
    "\n",
    "pbar = tqdm(total = 7)\n",
    "while(p <= 0.3):\n",
    "    solve_count = 0\n",
    "    trajectory_length = 0\n",
    "    \n",
    "    tl_q6 = 0\n",
    "    cell_processed_q6 = 0\n",
    "    time_q6 = 0\n",
    "    \n",
    "    tl_q7 = 0\n",
    "    cell_processed_q7 = 0\n",
    "    time_q7 = 0\n",
    "    \n",
    "    while(solve_count < 500):\n",
    "        real_world_grid = gen_env(p,101)\n",
    "        if(is_solveable(real_world_grid, [0,0], [100,100])):\n",
    "            solve_count += 1\n",
    "            \n",
    "            bot_env = gen_env(0,101)\n",
    "            final_discovered_grid_world = gen_env(1,101)\n",
    "            t = time.time()\n",
    "            path,cp,added_cost = repeated_astar(bot_env, real_world_grid, [0,0], [100,100], 'm', final_discovered_grid_world, False, 1, imp=True)\n",
    "            time_q6 += time.time()-t\n",
    "            trajectory_length = len(print_path(path)) + added_cost\n",
    "            cell_processed_q6 += cp\n",
    "            tl_q6 += trajectory_length\n",
    "            \n",
    "            bot_env = gen_env(0,101)\n",
    "            final_discovered_grid_world = gen_env(1,101)\n",
    "            t = time.time()\n",
    "            path,cp = repeated_astar(bot_env, real_world_grid, [0,0], [100,100], 'm', final_discovered_grid_world, True, 1, imp = False)\n",
    "            time_q7 += time.time()-t\n",
    "            trajectory_length = len(print_path(path))\n",
    "            tl_q7 += trajectory_length\n",
    "            cell_processed_q7 += cp\n",
    "        else:\n",
    "            continue\n",
    "    p_list.append(p)\n",
    "    \n",
    "    avg_trajectory_length_q6.append(tl_q6/500)\n",
    "    avg_cell_processed_q6.append(cell_processed_q6/500)\n",
    "    avg_time_q6.append(time_q6/500)\n",
    "    \n",
    "    avg_trajectory_length_q7.append(tl_q7/500)\n",
    "    avg_cell_processed_q7.append(cell_processed_q7/500)\n",
    "    avg_time_q7.append(time_q7/500)\n",
    "    \n",
    "    p += 0.05\n",
    "    pbar.update(1)\n",
    "pbar.close()"
   ]
  },
  {
   "cell_type": "code",
   "execution_count": 18,
   "id": "00afaf85",
   "metadata": {},
   "outputs": [
    {
     "data": {
      "text/plain": [
       "[201.0, 212.596, 228.408, 249.34, 280.876, 323.24, 391.652]"
      ]
     },
     "execution_count": 18,
     "metadata": {},
     "output_type": "execute_result"
    }
   ],
   "source": [
    "avg_trajectory_length_q6"
   ]
  },
  {
   "cell_type": "code",
   "execution_count": 19,
   "id": "b83c0ddb",
   "metadata": {},
   "outputs": [
    {
     "data": {
      "text/plain": [
       "[201.0, 212.596, 228.412, 249.388, 280.788, 322.812, 390.808]"
      ]
     },
     "execution_count": 19,
     "metadata": {},
     "output_type": "execute_result"
    }
   ],
   "source": [
    "avg_trajectory_length_q7"
   ]
  },
  {
   "cell_type": "code",
   "execution_count": 6,
   "id": "760a74ac",
   "metadata": {},
   "outputs": [
    {
     "data": {
      "text/plain": [
       "Text(0, 0.5, 'avg_trajectory length')"
      ]
     },
     "execution_count": 6,
     "metadata": {},
     "output_type": "execute_result"
    },
    {
     "data": {
      "image/png": "[encoded data removed]",
      "text/plain": [
       "<Figure size 432x288 with 1 Axes>"
      ]
     },
     "metadata": {
      "needs_background": "light"
     },
     "output_type": "display_data"
    }
   ],
   "source": [
    "plt.plot(p, [201.0, 212.512, 227.58, 248.256, 280.388, 322.848, 397.38])\n",
    "plt.plot(p,[201.0, 212.512, 227.588, 248.328, 280.04, 322.504, 396.42])\n",
    "plt.legend(['With improvement', 'Without improvement'] )\n",
    "plt.xlabel('Density')\n",
    "plt.ylabel('avg_trajectory length')"
   ]
  },
  {
   "cell_type": "code",
   "execution_count": 20,
   "id": "69491fab",
   "metadata": {},
   "outputs": [
    {
     "data": {
      "text/plain": [
       "[201.0, 1254.33, 2428.676, 3695.404, 5301.808, 7084.492, 10017.964]"
      ]
     },
     "execution_count": 20,
     "metadata": {},
     "output_type": "execute_result"
    }
   ],
   "source": [
    "avg_cell_processed_q6"
   ]
  },
  {
   "cell_type": "code",
   "execution_count": 21,
   "id": "b37efff4",
   "metadata": {},
   "outputs": [
    {
     "data": {
      "text/plain": [
       "[201.0, 1309.398, 2673.32, 4301.928, 6559.592, 9322.604, 14012.718]"
      ]
     },
     "execution_count": 21,
     "metadata": {},
     "output_type": "execute_result"
    }
   ],
   "source": [
    "avg_cell_processed_q7"
   ]
  },
  {
   "cell_type": "code",
   "execution_count": 13,
   "id": "3ea173a4",
   "metadata": {},
   "outputs": [
    {
     "data": {
      "text/plain": [
       "Text(0, 0.5, 'avg_cells_processed')"
      ]
     },
     "execution_count": 13,
     "metadata": {},
     "output_type": "execute_result"
    },
    {
     "data": {
      "image/png": "[encoded data removed]",
      "text/plain": [
       "<Figure size 432x288 with 1 Axes>"
      ]
     },
     "metadata": {
      "needs_background": "light"
     },
     "output_type": "display_data"
    }
   ],
   "source": [
    "plt.plot(p, [201.0, 1261.28, 2429.266, 3699.522, 5212.422, 7154.396, 10231.152])\n",
    "plt.plot(p,[201.0, 1315.292, 2665.608, 4319.628, 6444.69, 9382.078, 14399.098])\n",
    "plt.legend(['With improvement', 'Without improvement'] )\n",
    "plt.xlabel('Density')\n",
    "plt.ylabel('avg_cells_processed')"
   ]
  },
  {
   "cell_type": "code",
   "execution_count": 22,
   "id": "2e6d7079",
   "metadata": {},
   "outputs": [
    {
     "data": {
      "text/plain": [
       "[0.004196856021881103,\n",
       " 0.014528759479522705,\n",
       " 0.025578328132629394,\n",
       " 0.037968716144561765,\n",
       " 0.054639158248901365,\n",
       " 0.07156748676300048,\n",
       " 0.10031313753128052]"
      ]
     },
     "execution_count": 22,
     "metadata": {},
     "output_type": "execute_result"
    }
   ],
   "source": [
    "avg_time_q6"
   ]
  },
  {
   "cell_type": "code",
   "execution_count": 4,
   "id": "f3cfa425",
   "metadata": {},
   "outputs": [],
   "source": [
    "p = [0,0.05,0.1,0.15,0.2,0.25,0.3]"
   ]
  },
  {
   "cell_type": "code",
   "execution_count": 8,
   "id": "28537c5d",
   "metadata": {},
   "outputs": [
    {
     "data": {
      "text/plain": [
       "Text(0, 0.5, 'time in sec')"
      ]
     },
     "execution_count": 8,
     "metadata": {},
     "output_type": "execute_result"
    },
    {
     "data": {
      "image/png": "[encoded data removed]",
      "text/plain": [
       "<Figure size 432x288 with 1 Axes>"
      ]
     },
     "metadata": {
      "needs_background": "light"
     },
     "output_type": "display_data"
    }
   ],
   "source": [
    "y1 = [0.004222334861755371,\n",
    "0.014984403610229492,\n",
    " 0.026795461654663087,\n",
    " 0.03922902202606201,\n",
    " 0.05325496768951416,\n",
    " 0.07277054691314697,\n",
    " 0.10480460119247437]\n",
    "plt.plot([0,0.05,0.1,0.15,0.2,0.25,0.3],y1)\n",
    "\n",
    "y2 = [0.002061413288116455,\n",
    " 0.012694456100463868,\n",
    " 0.025828443050384522,\n",
    " 0.04139853668212891,\n",
    " 0.06057038021087646,\n",
    " 0.08854127216339111,\n",
    " 0.1380766668319702]\n",
    "\n",
    "plt.plot([0,0.05,0.1,0.15,0.2,0.25,0.3],y2)\n",
    "\n",
    "plt.legend(['With improvement', 'Without improvement'] )\n",
    "plt.xlabel('Density')\n",
    "plt.ylabel('time in sec')"
   ]
  },
  {
   "cell_type": "code",
   "execution_count": 24,
   "id": "d1624901",
   "metadata": {},
   "outputs": [
    {
     "data": {
      "text/plain": [
       "[0.002009624481201172,\n",
       " 0.012344284534454346,\n",
       " 0.02476350498199463,\n",
       " 1.1375987749099732,\n",
       " 0.06222193765640259,\n",
       " 0.08739434766769409,\n",
       " 0.13143075466156007]"
      ]
     },
     "execution_count": 24,
     "metadata": {},
     "output_type": "execute_result"
    }
   ],
   "source": [
    "avg_time_q7"
   ]
  },
  {
   "cell_type": "markdown",
   "id": "1e7a711c",
   "metadata": {},
   "source": [
    "### ------------------------------------------------------------------------------------------------------------------------------"
   ]
  },
  {
   "cell_type": "markdown",
   "id": "23e8ece4",
   "metadata": {},
   "source": [
    "#### Code for Q9"
   ]
  },
  {
   "cell_type": "markdown",
   "id": "a803fa1e",
   "metadata": {},
   "source": [
    "#### Effect of weight on A*"
   ]
  },
  {
   "cell_type": "code",
   "execution_count": null,
   "id": "e110abbc",
   "metadata": {},
   "outputs": [],
   "source": [
    "p_time_dict_m = {}\n",
    "p_path_dict_m = {}\n",
    "p_np_dict_m = {}\n",
    "\n",
    "p_time_dict_e = {}\n",
    "p_path_dict_e = {}\n",
    "p_np_dict_e = {}\n",
    "\n",
    "p_time_dict_c = {}\n",
    "p_path_dict_c = {}\n",
    "p_np_dict_c = {}\n",
    "\n",
    "weight = [0.5,1,1.5,2,3, 5, 7]\n",
    "\n",
    "for p in tqdm([0.25]):\n",
    "    print(p)\n",
    "    time_m = []\n",
    "    time_e = []\n",
    "    time_c = []\n",
    "    path_m = []\n",
    "    path_e = []\n",
    "    path_c = []\n",
    "    np_m = []\n",
    "    np_e = []\n",
    "    np_c = []\n",
    "    count = 0\n",
    "    while(count < 500):\n",
    "        if(count % 50 == 0):\n",
    "            print(count)\n",
    "        real_world_grid = gen_env(p, 101)\n",
    "        if (not is_solveable(real_world_grid, [0,0], [100,100])):\n",
    "            continue\n",
    "        else:\n",
    "            count += 1\n",
    "            timer_m = []\n",
    "            cp_m = []\n",
    "            p_m = []\n",
    "            \n",
    "            timer_e = []\n",
    "            cp_e = []\n",
    "            p_e = []\n",
    "\n",
    "            timer_c = []\n",
    "            cp_c = []\n",
    "            p_c = []\n",
    "            for w in weight:\n",
    "                bot_env = bot_env = gen_env(0,101)\n",
    "                final_discovered_grid_world = gen_env(1,101)\n",
    "                t = time.time()\n",
    "                path,cp,nc = Astar(real_world_grid,[0,0], [100,100], 'm', w)\n",
    "                timer_m.append(time.time()-t)\n",
    "                cp_m.append(cp)\n",
    "                p_m.append(len(print_path(path)))\n",
    "\n",
    "\n",
    "                bot_env = bot_env = gen_env(0,101)\n",
    "                final_discovered_grid_world = gen_env(1,101)\n",
    "                t = time.time()\n",
    "                path,cp,nc = Astar(real_world_grid,[0,0], [100,100], 'e', w)\n",
    "                timer_e.append(time.time()-t)\n",
    "                cp_e.append(cp)\n",
    "                p_e.append(len(print_path(path)))\n",
    "\n",
    "                bot_env = bot_env = gen_env(0,101)\n",
    "                final_discovered_grid_world = gen_env(1,101)\n",
    "                t = time.time()\n",
    "                path,cp,nc = Astar(real_world_grid,[0,0], [100,100], 'c', w)\n",
    "                timer_c.append(time.time()-t)\n",
    "                cp_c.append(cp)\n",
    "                p_c.append(len(print_path(path)))\n",
    "\n",
    "        time_m.append(timer_m)\n",
    "        np_m.append(cp_m)\n",
    "        path_m.append(p_m)\n",
    "\n",
    "        time_e.append(timer_e)\n",
    "        np_e.append(cp_e)\n",
    "        path_e.append(p_e)\n",
    "\n",
    "        time_c.append(timer_c)\n",
    "        np_c.append(cp_c)\n",
    "        path_c.append(p_c)\n",
    "        \n",
    "    p_time_dict_m[p] = time_m\n",
    "    p_path_dict_m[p] = path_m\n",
    "    p_np_dict_m[p] = np_m\n",
    "        \n",
    "    p_time_dict_e[p] = time_e\n",
    "    p_path_dict_e[p] = path_e\n",
    "    p_np_dict_e[p] = np_e\n",
    "        \n",
    "    p_time_dict_c[p] = time_c\n",
    "    p_path_dict_c[p] = path_c\n",
    "    p_np_dict_c[p] = np_c"
   ]
  },
  {
   "cell_type": "markdown",
   "id": "45c58c28",
   "metadata": {},
   "source": [
    "#### Time"
   ]
  },
  {
   "cell_type": "code",
   "execution_count": null,
   "id": "cca1aea3",
   "metadata": {},
   "outputs": [],
   "source": [
    "w_0_p_0_time_m = [i[0] for i in p_time_dict_m[0.25]]\n",
    "w_05_p_0_time_m = [i[1] for i in p_time_dict_m[0.25]]\n",
    "w_1_p_0_time_m = [i[2] for i in p_time_dict_m[0.25]]\n",
    "w_15_p_0_time_m = [i[3] for i in p_time_dict_m[0.25]]\n",
    "w_2_p_0_time_m = [i[4] for i in p_time_dict_m[0.25]]\n",
    "w_3_p_0_time_m = [i[5] for i in p_time_dict_m[0.25]]\n",
    "w_5_p_0_time_m = [i[6] for i in p_time_dict_m[0.25]]\n",
    "w_0_p_0_time_m = sum(w_0_p_0_time_m)/len(w_0_p_0_time_m)\n",
    "w_05_p_0_time_m = sum(w_05_p_0_time_m)/len(w_05_p_0_time_m)\n",
    "w_1_p_0_time_m = sum(w_1_p_0_time_m)/len(w_1_p_0_time_m)\n",
    "w_15_p_0_time_m = sum(w_15_p_0_time_m)/len(w_15_p_0_time_m)\n",
    "w_2_p_0_time_m = sum(w_2_p_0_time_m)/len(w_2_p_0_time_m)\n",
    "w_3_p_0_time_m = sum(w_3_p_0_time_m)/len(w_3_p_0_time_m)\n",
    "w_5_p_0_time_m = sum(w_5_p_0_time_m)/len(w_5_p_0_time_m)\n",
    "w = [w_0_p_0_time_m, w_05_p_0_time_m, w_1_p_0_time_m, w_15_p_0_time_m, w_2_p_0_time_m, w_3_p_0_time_m, w_5_p_0_time_m]\n",
    "w"
   ]
  },
  {
   "cell_type": "code",
   "execution_count": null,
   "id": "4ad65ee9",
   "metadata": {},
   "outputs": [],
   "source": [
    "plt.plot(weight, w)\n",
    "plt.xlabel(\"weight\")\n",
    "plt.ylabel(\"Avg time taken to solve the grid\")"
   ]
  },
  {
   "cell_type": "code",
   "execution_count": null,
   "id": "2699e216",
   "metadata": {},
   "outputs": [],
   "source": [
    "w_0_p_0_time_m = [i[0] for i in p_time_dict_e[0.25]]\n",
    "w_05_p_0_time_m = [i[1] for i in p_time_dict_e[0.25]]\n",
    "w_1_p_0_time_m = [i[2] for i in p_time_dict_e[0.25]]\n",
    "w_15_p_0_time_m = [i[3] for i in p_time_dict_e[0.25]]\n",
    "w_2_p_0_time_m = [i[4] for i in p_time_dict_e[0.25]]\n",
    "w_3_p_0_time_m = [i[5] for i in p_time_dict_e[0.25]]\n",
    "w_5_p_0_time_m = [i[6] for i in p_time_dict_e[0.25]]\n",
    "w_0_p_0_time_m = sum(w_0_p_0_time_m)/len(w_0_p_0_time_m)\n",
    "w_05_p_0_time_m = sum(w_05_p_0_time_m)/len(w_05_p_0_time_m)\n",
    "w_1_p_0_time_m = sum(w_1_p_0_time_m)/len(w_1_p_0_time_m)\n",
    "w_15_p_0_time_m = sum(w_15_p_0_time_m)/len(w_15_p_0_time_m)\n",
    "w_2_p_0_time_m = sum(w_2_p_0_time_m)/len(w_2_p_0_time_m)\n",
    "w_3_p_0_time_m = sum(w_3_p_0_time_m)/len(w_3_p_0_time_m)\n",
    "w_5_p_0_time_m = sum(w_5_p_0_time_m)/len(w_5_p_0_time_m)\n",
    "w = [w_0_p_0_time_m, w_05_p_0_time_m, w_1_p_0_time_m, w_15_p_0_time_m, w_2_p_0_time_m, w_3_p_0_time_m, w_5_p_0_time_m]\n",
    "w"
   ]
  },
  {
   "cell_type": "code",
   "execution_count": null,
   "id": "4900d31c",
   "metadata": {},
   "outputs": [],
   "source": [
    "plt.plot(weight, w)\n",
    "plt.xlabel(\"weight\")\n",
    "plt.ylabel(\"Avg time taken to solve the grid\")"
   ]
  },
  {
   "cell_type": "code",
   "execution_count": null,
   "id": "e02e0106",
   "metadata": {},
   "outputs": [],
   "source": [
    "w_0_p_0_time_m = [i[0] for i in p_time_dict_c[0.25]]\n",
    "w_05_p_0_time_m = [i[1] for i in p_time_dict_c[0.25]]\n",
    "w_1_p_0_time_m = [i[2] for i in p_time_dict_c[0.25]]\n",
    "w_15_p_0_time_m = [i[3] for i in p_time_dict_c[0.25]]\n",
    "w_2_p_0_time_m = [i[4] for i in p_time_dict_c[0.25]]\n",
    "w_3_p_0_time_m = [i[5] for i in p_time_dict_c[0.25]]\n",
    "w_5_p_0_time_m = [i[6] for i in p_time_dict_c[0.25]]\n",
    "w_0_p_0_time_m = sum(w_0_p_0_time_m)/len(w_0_p_0_time_m)\n",
    "w_05_p_0_time_m = sum(w_05_p_0_time_m)/len(w_05_p_0_time_m)\n",
    "w_1_p_0_time_m = sum(w_1_p_0_time_m)/len(w_1_p_0_time_m)\n",
    "w_15_p_0_time_m = sum(w_15_p_0_time_m)/len(w_15_p_0_time_m)\n",
    "w_2_p_0_time_m = sum(w_2_p_0_time_m)/len(w_2_p_0_time_m)\n",
    "w_3_p_0_time_m = sum(w_3_p_0_time_m)/len(w_3_p_0_time_m)\n",
    "w_5_p_0_time_m = sum(w_5_p_0_time_m)/len(w_5_p_0_time_m)\n",
    "w = [w_0_p_0_time_m, w_05_p_0_time_m, w_1_p_0_time_m, w_15_p_0_time_m, w_2_p_0_time_m, w_3_p_0_time_m, w_5_p_0_time_m]\n",
    "w"
   ]
  },
  {
   "cell_type": "code",
   "execution_count": null,
   "id": "bd08f641",
   "metadata": {},
   "outputs": [],
   "source": [
    "plt.plot(weight, w)\n",
    "plt.xlabel(\"weight\")\n",
    "plt.ylabel(\"Avg time taken to solve the grid\")"
   ]
  },
  {
   "cell_type": "markdown",
   "id": "24872886",
   "metadata": {},
   "source": [
    "#### trajectory length"
   ]
  },
  {
   "cell_type": "code",
   "execution_count": null,
   "id": "c9aaa58a",
   "metadata": {},
   "outputs": [],
   "source": [
    "w_0_p_0_time_m = [i[0] for i in p_path_dict_m[0.25]]\n",
    "w_05_p_0_time_m = [i[1] for i in p_path_dict_m[0.25]]\n",
    "w_1_p_0_time_m = [i[2] for i in p_path_dict_m[0.25]]\n",
    "w_15_p_0_time_m = [i[3] for i in p_path_dict_m[0.25]]\n",
    "w_2_p_0_time_m = [i[4] for i in p_path_dict_m[0.25]]\n",
    "w_3_p_0_time_m = [i[5] for i in p_path_dict_m[0.25]]\n",
    "w_5_p_0_time_m = [i[6] for i in p_path_dict_m[0.25]]\n",
    "w_0_p_0_time_m = sum(w_0_p_0_time_m)/len(w_0_p_0_time_m)\n",
    "w_05_p_0_time_m = sum(w_05_p_0_time_m)/len(w_05_p_0_time_m)\n",
    "w_1_p_0_time_m = sum(w_1_p_0_time_m)/len(w_1_p_0_time_m)\n",
    "w_15_p_0_time_m = sum(w_15_p_0_time_m)/len(w_15_p_0_time_m)\n",
    "w_2_p_0_time_m = sum(w_2_p_0_time_m)/len(w_2_p_0_time_m)\n",
    "w_3_p_0_time_m = sum(w_3_p_0_time_m)/len(w_3_p_0_time_m)\n",
    "w_5_p_0_time_m = sum(w_5_p_0_time_m)/len(w_5_p_0_time_m)\n",
    "w = [w_0_p_0_time_m, w_05_p_0_time_m, w_1_p_0_time_m, w_15_p_0_time_m, w_2_p_0_time_m, w_3_p_0_time_m, w_5_p_0_time_m]\n",
    "w"
   ]
  },
  {
   "cell_type": "code",
   "execution_count": null,
   "id": "02fe67b2",
   "metadata": {},
   "outputs": [],
   "source": [
    "plt.plot(weight, w)\n",
    "plt.xlabel(\"weight\")\n",
    "plt.ylabel(\"Avg Trajectory Length\")"
   ]
  },
  {
   "cell_type": "code",
   "execution_count": null,
   "id": "7ff1535d",
   "metadata": {},
   "outputs": [],
   "source": [
    "w_0_p_0_time_m = [i[0] for i in p_path_dict_e[0.25]]\n",
    "w_05_p_0_time_m = [i[1] for i in p_path_dict_e[0.25]]\n",
    "w_1_p_0_time_m = [i[2] for i in p_path_dict_e[0.25]]\n",
    "w_15_p_0_time_m = [i[3] for i in p_path_dict_e[0.25]]\n",
    "w_2_p_0_time_m = [i[4] for i in p_path_dict_e[0.25]]\n",
    "w_3_p_0_time_m = [i[5] for i in p_path_dict_e[0.25]]\n",
    "w_5_p_0_time_m = [i[6] for i in p_path_dict_e[0.25]]\n",
    "w_0_p_0_time_m = sum(w_0_p_0_time_m)/len(w_0_p_0_time_m)\n",
    "w_05_p_0_time_m = sum(w_05_p_0_time_m)/len(w_05_p_0_time_m)\n",
    "w_1_p_0_time_m = sum(w_1_p_0_time_m)/len(w_1_p_0_time_m)\n",
    "w_15_p_0_time_m = sum(w_15_p_0_time_m)/len(w_15_p_0_time_m)\n",
    "w_2_p_0_time_m = sum(w_2_p_0_time_m)/len(w_2_p_0_time_m)\n",
    "w_3_p_0_time_m = sum(w_3_p_0_time_m)/len(w_3_p_0_time_m)\n",
    "w_5_p_0_time_m = sum(w_5_p_0_time_m)/len(w_5_p_0_time_m)\n",
    "w = [w_0_p_0_time_m, w_05_p_0_time_m, w_1_p_0_time_m, w_15_p_0_time_m, w_2_p_0_time_m, w_3_p_0_time_m, w_5_p_0_time_m]\n",
    "w"
   ]
  },
  {
   "cell_type": "code",
   "execution_count": null,
   "id": "5d7a6039",
   "metadata": {},
   "outputs": [],
   "source": [
    "plt.plot(weight, w)\n",
    "plt.xlabel(\"weight\")\n",
    "plt.ylabel(\"Avg Trajectory Length\")"
   ]
  },
  {
   "cell_type": "code",
   "execution_count": null,
   "id": "b6f9329f",
   "metadata": {},
   "outputs": [],
   "source": [
    "w_0_p_0_time_m = [i[0] for i in p_path_dict_c[0.25]]\n",
    "w_05_p_0_time_m = [i[1] for i in p_path_dict_c[0.25]]\n",
    "w_1_p_0_time_m = [i[2] for i in p_path_dict_c[0.25]]\n",
    "w_15_p_0_time_m = [i[3] for i in p_path_dict_c[0.25]]\n",
    "w_2_p_0_time_m = [i[4] for i in p_path_dict_c[0.25]]\n",
    "w_3_p_0_time_m = [i[5] for i in p_path_dict_c[0.25]]\n",
    "w_5_p_0_time_m = [i[6] for i in p_path_dict_c[0.25]]\n",
    "w_0_p_0_time_m = sum(w_0_p_0_time_m)/len(w_0_p_0_time_m)\n",
    "w_05_p_0_time_m = sum(w_05_p_0_time_m)/len(w_05_p_0_time_m)\n",
    "w_1_p_0_time_m = sum(w_1_p_0_time_m)/len(w_1_p_0_time_m)\n",
    "w_15_p_0_time_m = sum(w_15_p_0_time_m)/len(w_15_p_0_time_m)\n",
    "w_2_p_0_time_m = sum(w_2_p_0_time_m)/len(w_2_p_0_time_m)\n",
    "w_3_p_0_time_m = sum(w_3_p_0_time_m)/len(w_3_p_0_time_m)\n",
    "w_5_p_0_time_m = sum(w_5_p_0_time_m)/len(w_5_p_0_time_m)\n",
    "w = [w_0_p_0_time_m, w_05_p_0_time_m, w_1_p_0_time_m, w_15_p_0_time_m, w_2_p_0_time_m, w_3_p_0_time_m, w_5_p_0_time_m]\n",
    "w"
   ]
  },
  {
   "cell_type": "code",
   "execution_count": null,
   "id": "4f8561c1",
   "metadata": {},
   "outputs": [],
   "source": [
    "plt.plot(weight, w)\n",
    "plt.xlabel(\"weight\")\n",
    "plt.ylabel(\"Avg Trajectory Length\")"
   ]
  },
  {
   "cell_type": "markdown",
   "id": "48d9aa81",
   "metadata": {},
   "source": [
    "#### Effect of weight on repeated A*"
   ]
  },
  {
   "cell_type": "code",
   "execution_count": null,
   "id": "cb7803f4",
   "metadata": {},
   "outputs": [],
   "source": [
    "p_time_dict_m = {}\n",
    "p_path_dict_m = {}\n",
    "p_np_dict_m = {}\n",
    "\n",
    "p_time_dict_e = {}\n",
    "p_path_dict_e = {}\n",
    "p_np_dict_e = {}\n",
    "\n",
    "p_time_dict_c = {}\n",
    "p_path_dict_c = {}\n",
    "p_np_dict_c = {}\n",
    "\n",
    "weight = [0,0.5,1,1.5,2,3]\n",
    "\n",
    "for p in tqdm([0,0.05,0.1,0.15,0.25,0.3]):\n",
    "    print(p)\n",
    "    time_m = []\n",
    "    time_e = []\n",
    "    time_c = []\n",
    "    path_m = []\n",
    "    path_e = []\n",
    "    path_c = []\n",
    "    np_m = []\n",
    "    np_e = []\n",
    "    np_c = []\n",
    "    count = 0\n",
    "    while(count < 500):\n",
    "        if(count % 50 == 0):\n",
    "            print(count)\n",
    "        real_world_grid = gen_env(p, 101)\n",
    "        if (not is_solveable(real_world_grid, [0,0], [100,100])):\n",
    "            continue\n",
    "        else:\n",
    "            count += 1\n",
    "            timer_m = []\n",
    "            cp_m = []\n",
    "            p_m = []\n",
    "            \n",
    "            timer_e = []\n",
    "            cp_e = []\n",
    "            p_e = []\n",
    "\n",
    "            timer_c = []\n",
    "            cp_c = []\n",
    "            p_c = []\n",
    "            for w in weight:\n",
    "                bot_env = bot_env = gen_env(0,101)\n",
    "                final_discovered_grid_world = gen_env(1,101)\n",
    "                t = time.time()\n",
    "                path,cp = repeated_astar(bot_env, real_world_grid,[0,0], [100,100], 'm', final_discovered_grid_world, False, w)\n",
    "                timer_m.append(time.time()-t)\n",
    "                cp_m.append(cp)\n",
    "                p_m.append(len(print_path(path)))\n",
    "\n",
    "\n",
    "                bot_env = bot_env = gen_env(0,101)\n",
    "                final_discovered_grid_world = gen_env(1,101)\n",
    "                t = time.time()\n",
    "                path,cp = repeated_astar(bot_env, real_world_grid,[0,0], [100,100], 'e', final_discovered_grid_world, False, w)\n",
    "                timer_e.append(time.time()-t)\n",
    "                cp_e.append(cp)\n",
    "                p_e.append(len(print_path(path)))\n",
    "\n",
    "                bot_env = bot_env = gen_env(0,101)\n",
    "                final_discovered_grid_world = gen_env(1,101)\n",
    "                t = time.time()\n",
    "                path,cp = repeated_astar(bot_env, real_world_grid,[0,0], [100,100], 'c', final_discovered_grid_world, False, w)\n",
    "                timer_c.append(time.time()-t)\n",
    "                cp_c.append(cp)\n",
    "                p_c.append(len(print_path(path)))\n",
    "\n",
    "        time_m.append(timer_m)\n",
    "        np_m.append(cp_m)\n",
    "        path_m.append(p_m)\n",
    "\n",
    "        time_e.append(timer_e)\n",
    "        np_e.append(cp_e)\n",
    "        path_e.append(p_e)\n",
    "\n",
    "        time_c.append(timer_c)\n",
    "        np_c.append(cp_c)\n",
    "        path_c.append(p_c)\n",
    "        \n",
    "    p_time_dict_m[p] = time_m\n",
    "    p_path_dict_m[p] = path_m\n",
    "    p_np_dict_m[p] = np_m\n",
    "        \n",
    "    p_time_dict_e[p] = time_e\n",
    "    p_path_dict_e[p] = path_e\n",
    "    p_np_dict_e[p] = np_e\n",
    "        \n",
    "    p_time_dict_c[p] = time_c\n",
    "    p_path_dict_c[p] = path_c\n",
    "    p_np_dict_c[p] = np_c"
   ]
  },
  {
   "cell_type": "markdown",
   "id": "1230c68c",
   "metadata": {},
   "source": [
    "#### p = 0"
   ]
  },
  {
   "cell_type": "markdown",
   "id": "7e7c093f",
   "metadata": {},
   "source": [
    "#### Time"
   ]
  },
  {
   "cell_type": "code",
   "execution_count": null,
   "id": "e6912abe",
   "metadata": {},
   "outputs": [],
   "source": [
    "w_0_p_0_time_m = [i[0] for i in p_time_dict_m[0]]\n",
    "w_05_p_0_time_m = [i[1] for i in p_time_dict_m[0]]\n",
    "w_1_p_0_time_m = [i[2] for i in p_time_dict_m[0]]\n",
    "w_15_p_0_time_m = [i[3] for i in p_time_dict_m[0]]\n",
    "w_2_p_0_time_m = [i[4] for i in p_time_dict_m[0]]\n",
    "w_3_p_0_time_m = [i[5] for i in p_time_dict_m[0]]"
   ]
  },
  {
   "cell_type": "code",
   "execution_count": null,
   "id": "61427256",
   "metadata": {},
   "outputs": [],
   "source": [
    "w_0_p_0_time_m = sum(w_0_p_0_time_m)/len(w_0_p_0_time_m)\n",
    "w_05_p_0_time_m = sum(w_05_p_0_time_m)/len(w_05_p_0_time_m)\n",
    "w_1_p_0_time_m = sum(w_1_p_0_time_m)/len(w_1_p_0_time_m)\n",
    "w_15_p_0_time_m = sum(w_15_p_0_time_m)/len(w_15_p_0_time_m)\n",
    "w_2_p_0_time_m = sum(w_2_p_0_time_m)/len(w_2_p_0_time_m)\n",
    "w_3_p_0_time_m = sum(w_3_p_0_time_m)/len(w_3_p_0_time_m)"
   ]
  },
  {
   "cell_type": "code",
   "execution_count": null,
   "id": "15043ecd",
   "metadata": {},
   "outputs": [],
   "source": [
    "w = [w_0_p_0_time_m, w_05_p_0_time_m, w_1_p_0_time_m, w_15_p_0_time_m, w_2_p_0_time_m, w_3_p_0_time_m]"
   ]
  },
  {
   "cell_type": "code",
   "execution_count": null,
   "id": "864eafd1",
   "metadata": {},
   "outputs": [],
   "source": [
    "w"
   ]
  },
  {
   "cell_type": "code",
   "execution_count": null,
   "id": "c5a005f0",
   "metadata": {},
   "outputs": [],
   "source": [
    "plt.plot(weight, w)\n",
    "plt.xlabel(\"weight\")\n",
    "plt.ylabel(\"Avg time taken to solve the grid\")"
   ]
  },
  {
   "cell_type": "code",
   "execution_count": null,
   "id": "4eab4382",
   "metadata": {},
   "outputs": [],
   "source": [
    "w_0_p_0_time_m = [i[0] for i in p_time_dict_e[0]]\n",
    "w_05_p_0_time_m = [i[1] for i in p_time_dict_e[0]]\n",
    "w_1_p_0_time_m = [i[2] for i in p_time_dict_e[0]]\n",
    "w_15_p_0_time_m = [i[3] for i in p_time_dict_e[0]]\n",
    "w_2_p_0_time_m = [i[4] for i in p_time_dict_e[0]]\n",
    "w_3_p_0_time_m = [i[5] for i in p_time_dict_e[0]]\n",
    "w_0_p_0_time_m = sum(w_0_p_0_time_m)/len(w_0_p_0_time_m)\n",
    "w_05_p_0_time_m = sum(w_05_p_0_time_m)/len(w_05_p_0_time_m)\n",
    "w_1_p_0_time_m = sum(w_1_p_0_time_m)/len(w_1_p_0_time_m)\n",
    "w_15_p_0_time_m = sum(w_15_p_0_time_m)/len(w_15_p_0_time_m)\n",
    "w_2_p_0_time_m = sum(w_2_p_0_time_m)/len(w_2_p_0_time_m)\n",
    "w_3_p_0_time_m = sum(w_3_p_0_time_m)/len(w_3_p_0_time_m)\n",
    "w = [w_0_p_0_time_m, w_05_p_0_time_m, w_1_p_0_time_m, w_15_p_0_time_m, w_2_p_0_time_m, w_3_p_0_time_m]"
   ]
  },
  {
   "cell_type": "code",
   "execution_count": null,
   "id": "c9012f9a",
   "metadata": {},
   "outputs": [],
   "source": [
    "w"
   ]
  },
  {
   "cell_type": "code",
   "execution_count": null,
   "id": "135b0d35",
   "metadata": {},
   "outputs": [],
   "source": [
    "plt.plot(weight, w)\n",
    "plt.xlabel(\"weight\")\n",
    "plt.ylabel(\"Avg time taken to solve the grid\")"
   ]
  },
  {
   "cell_type": "code",
   "execution_count": null,
   "id": "3b5a6eff",
   "metadata": {},
   "outputs": [],
   "source": [
    "w_0_p_0_time_m = [i[0] for i in p_time_dict_c[0]]\n",
    "w_05_p_0_time_m = [i[1] for i in p_time_dict_c[0]]\n",
    "w_1_p_0_time_m = [i[2] for i in p_time_dict_c[0]]\n",
    "w_15_p_0_time_m = [i[3] for i in p_time_dict_c[0]]\n",
    "w_2_p_0_time_m = [i[4] for i in p_time_dict_c[0]]\n",
    "w_3_p_0_time_m = [i[5] for i in p_time_dict_c[0]]\n",
    "w_0_p_0_time_m = sum(w_0_p_0_time_m)/len(w_0_p_0_time_m)\n",
    "w_05_p_0_time_m = sum(w_05_p_0_time_m)/len(w_05_p_0_time_m)\n",
    "w_1_p_0_time_m = sum(w_1_p_0_time_m)/len(w_1_p_0_time_m)\n",
    "w_15_p_0_time_m = sum(w_15_p_0_time_m)/len(w_15_p_0_time_m)\n",
    "w_2_p_0_time_m = sum(w_2_p_0_time_m)/len(w_2_p_0_time_m)\n",
    "w_3_p_0_time_m = sum(w_3_p_0_time_m)/len(w_3_p_0_time_m)\n",
    "w = [w_0_p_0_time_m, w_05_p_0_time_m, w_1_p_0_time_m, w_15_p_0_time_m, w_2_p_0_time_m, w_3_p_0_time_m]"
   ]
  },
  {
   "cell_type": "code",
   "execution_count": null,
   "id": "98afe7ca",
   "metadata": {},
   "outputs": [],
   "source": [
    "w"
   ]
  },
  {
   "cell_type": "code",
   "execution_count": null,
   "id": "1638c81a",
   "metadata": {},
   "outputs": [],
   "source": [
    "plt.plot(weight, w)\n",
    "plt.xlabel(\"weight\")\n",
    "plt.ylabel(\"Avg time taken to solve the grid\")"
   ]
  },
  {
   "cell_type": "markdown",
   "id": "c78fe991",
   "metadata": {},
   "source": [
    "##### Cells processed"
   ]
  },
  {
   "cell_type": "code",
   "execution_count": null,
   "id": "c7b9fa0b",
   "metadata": {},
   "outputs": [],
   "source": [
    "w_0_p_0_time_m = [i[0] for i in p_np_dict_m[0]]\n",
    "w_05_p_0_time_m = [i[1] for i in p_np_dict_m[0]]\n",
    "w_1_p_0_time_m = [i[2] for i in p_np_dict_m[0]]\n",
    "w_15_p_0_time_m = [i[3] for i in p_np_dict_m[0]]\n",
    "w_2_p_0_time_m = [i[4] for i in p_np_dict_m[0]]\n",
    "w_3_p_0_time_m = [i[5] for i in p_np_dict_m[0]]\n",
    "w_0_p_0_time_m = sum(w_0_p_0_time_m)/len(w_0_p_0_time_m)\n",
    "w_05_p_0_time_m = sum(w_05_p_0_time_m)/len(w_05_p_0_time_m)\n",
    "w_1_p_0_time_m = sum(w_1_p_0_time_m)/len(w_1_p_0_time_m)\n",
    "w_15_p_0_time_m = sum(w_15_p_0_time_m)/len(w_15_p_0_time_m)\n",
    "w_2_p_0_time_m = sum(w_2_p_0_time_m)/len(w_2_p_0_time_m)\n",
    "w_3_p_0_time_m = sum(w_3_p_0_time_m)/len(w_3_p_0_time_m)\n",
    "w = [w_0_p_0_time_m, w_05_p_0_time_m, w_1_p_0_time_m, w_15_p_0_time_m, w_2_p_0_time_m, w_3_p_0_time_m]"
   ]
  },
  {
   "cell_type": "code",
   "execution_count": null,
   "id": "adf77d12",
   "metadata": {},
   "outputs": [],
   "source": [
    "w"
   ]
  },
  {
   "cell_type": "code",
   "execution_count": null,
   "id": "facb1777",
   "metadata": {},
   "outputs": [],
   "source": [
    "plt.plot(weight, w)\n",
    "plt.xlabel(\"weight\")\n",
    "plt.ylabel(\"Avg nodes processed to solve the grid\")"
   ]
  },
  {
   "cell_type": "code",
   "execution_count": null,
   "id": "a3036f3c",
   "metadata": {},
   "outputs": [],
   "source": [
    "w_0_p_0_time_m = [i[0] for i in p_np_dict_e[0]]\n",
    "w_05_p_0_time_m = [i[1] for i in p_np_dict_e[0]]\n",
    "w_1_p_0_time_m = [i[2] for i in p_np_dict_e[0]]\n",
    "w_15_p_0_time_m = [i[3] for i in p_np_dict_e[0]]\n",
    "w_2_p_0_time_m = [i[4] for i in p_np_dict_e[0]]\n",
    "w_3_p_0_time_m = [i[5] for i in p_np_dict_e[0]]\n",
    "w_0_p_0_time_m = sum(w_0_p_0_time_m)/len(w_0_p_0_time_m)\n",
    "w_05_p_0_time_m = sum(w_05_p_0_time_m)/len(w_05_p_0_time_m)\n",
    "w_1_p_0_time_m = sum(w_1_p_0_time_m)/len(w_1_p_0_time_m)\n",
    "w_15_p_0_time_m = sum(w_15_p_0_time_m)/len(w_15_p_0_time_m)\n",
    "w_2_p_0_time_m = sum(w_2_p_0_time_m)/len(w_2_p_0_time_m)\n",
    "w_3_p_0_time_m = sum(w_3_p_0_time_m)/len(w_3_p_0_time_m)\n",
    "w = [w_0_p_0_time_m, w_05_p_0_time_m, w_1_p_0_time_m, w_15_p_0_time_m, w_2_p_0_time_m, w_3_p_0_time_m]"
   ]
  },
  {
   "cell_type": "code",
   "execution_count": null,
   "id": "f7b24c3c",
   "metadata": {},
   "outputs": [],
   "source": [
    "w"
   ]
  },
  {
   "cell_type": "code",
   "execution_count": null,
   "id": "ed541b78",
   "metadata": {},
   "outputs": [],
   "source": [
    "plt.plot(weight, w)\n",
    "plt.xlabel(\"weight\")\n",
    "plt.ylabel(\"Avg nodes processed to solve the grid\")"
   ]
  },
  {
   "cell_type": "code",
   "execution_count": null,
   "id": "811af947",
   "metadata": {},
   "outputs": [],
   "source": [
    "w_0_p_0_time_m = [i[0] for i in p_np_dict_c[0]]\n",
    "w_05_p_0_time_m = [i[1] for i in p_np_dict_c[0]]\n",
    "w_1_p_0_time_m = [i[2] for i in p_np_dict_c[0]]\n",
    "w_15_p_0_time_m = [i[3] for i in p_np_dict_c[0]]\n",
    "w_2_p_0_time_m = [i[4] for i in p_np_dict_c[0]]\n",
    "w_3_p_0_time_m = [i[5] for i in p_np_dict_c[0]]\n",
    "w_0_p_0_time_m = sum(w_0_p_0_time_m)/len(w_0_p_0_time_m)\n",
    "w_05_p_0_time_m = sum(w_05_p_0_time_m)/len(w_05_p_0_time_m)\n",
    "w_1_p_0_time_m = sum(w_1_p_0_time_m)/len(w_1_p_0_time_m)\n",
    "w_15_p_0_time_m = sum(w_15_p_0_time_m)/len(w_15_p_0_time_m)\n",
    "w_2_p_0_time_m = sum(w_2_p_0_time_m)/len(w_2_p_0_time_m)\n",
    "w_3_p_0_time_m = sum(w_3_p_0_time_m)/len(w_3_p_0_time_m)\n",
    "w = [w_0_p_0_time_m, w_05_p_0_time_m, w_1_p_0_time_m, w_15_p_0_time_m, w_2_p_0_time_m, w_3_p_0_time_m]"
   ]
  },
  {
   "cell_type": "code",
   "execution_count": null,
   "id": "e7e63230",
   "metadata": {},
   "outputs": [],
   "source": [
    "w"
   ]
  },
  {
   "cell_type": "code",
   "execution_count": null,
   "id": "c5d5820c",
   "metadata": {},
   "outputs": [],
   "source": [
    "plt.plot(weight, w)\n",
    "plt.xlabel(\"weight\")\n",
    "plt.ylabel(\"Avg nodes processed to solve the grid\")"
   ]
  },
  {
   "cell_type": "markdown",
   "id": "69c0482d",
   "metadata": {},
   "source": [
    "#### Path"
   ]
  },
  {
   "cell_type": "code",
   "execution_count": null,
   "id": "c34cc322",
   "metadata": {},
   "outputs": [],
   "source": [
    "w_0_p_0_time_m = [i[0] for i in p_path_dict_m[0]]\n",
    "w_05_p_0_time_m = [i[1] for i in p_path_dict_m[0]]\n",
    "w_1_p_0_time_m = [i[2] for i in p_path_dict_m[0]]\n",
    "w_15_p_0_time_m = [i[3] for i in p_path_dict_m[0]]\n",
    "w_2_p_0_time_m = [i[4] for i in p_path_dict_m[0]]\n",
    "w_3_p_0_time_m = [i[5] for i in p_path_dict_m[0]]\n",
    "w_0_p_0_time_m = sum(w_0_p_0_time_m)/len(w_0_p_0_time_m)\n",
    "w_05_p_0_time_m = sum(w_05_p_0_time_m)/len(w_05_p_0_time_m)\n",
    "w_1_p_0_time_m = sum(w_1_p_0_time_m)/len(w_1_p_0_time_m)\n",
    "w_15_p_0_time_m = sum(w_15_p_0_time_m)/len(w_15_p_0_time_m)\n",
    "w_2_p_0_time_m = sum(w_2_p_0_time_m)/len(w_2_p_0_time_m)\n",
    "w_3_p_0_time_m = sum(w_3_p_0_time_m)/len(w_3_p_0_time_m)\n",
    "w = [w_0_p_0_time_m, w_05_p_0_time_m, w_1_p_0_time_m, w_15_p_0_time_m, w_2_p_0_time_m, w_3_p_0_time_m]"
   ]
  },
  {
   "cell_type": "code",
   "execution_count": null,
   "id": "fca8e7a9",
   "metadata": {},
   "outputs": [],
   "source": [
    "w"
   ]
  },
  {
   "cell_type": "code",
   "execution_count": null,
   "id": "59fcd1a4",
   "metadata": {},
   "outputs": [],
   "source": [
    "plt.plot(weight, w)\n",
    "plt.xlabel(\"weight\")\n",
    "plt.ylabel(\"Avg path length\")"
   ]
  },
  {
   "cell_type": "code",
   "execution_count": null,
   "id": "78c3a027",
   "metadata": {},
   "outputs": [],
   "source": [
    "w_0_p_0_time_m = [i[0] for i in p_path_dict_e[0]]\n",
    "w_05_p_0_time_m = [i[1] for i in p_path_dict_e[0]]\n",
    "w_1_p_0_time_m = [i[2] for i in p_path_dict_e[0]]\n",
    "w_15_p_0_time_m = [i[3] for i in p_path_dict_e[0]]\n",
    "w_2_p_0_time_m = [i[4] for i in p_path_dict_e[0]]\n",
    "w_3_p_0_time_m = [i[5] for i in p_path_dict_e[0]]\n",
    "w_0_p_0_time_m = sum(w_0_p_0_time_m)/len(w_0_p_0_time_m)\n",
    "w_05_p_0_time_m = sum(w_05_p_0_time_m)/len(w_05_p_0_time_m)\n",
    "w_1_p_0_time_m = sum(w_1_p_0_time_m)/len(w_1_p_0_time_m)\n",
    "w_15_p_0_time_m = sum(w_15_p_0_time_m)/len(w_15_p_0_time_m)\n",
    "w_2_p_0_time_m = sum(w_2_p_0_time_m)/len(w_2_p_0_time_m)\n",
    "w_3_p_0_time_m = sum(w_3_p_0_time_m)/len(w_3_p_0_time_m)\n",
    "w = [w_0_p_0_time_m, w_05_p_0_time_m, w_1_p_0_time_m, w_15_p_0_time_m, w_2_p_0_time_m, w_3_p_0_time_m]"
   ]
  },
  {
   "cell_type": "code",
   "execution_count": null,
   "id": "e3990771",
   "metadata": {},
   "outputs": [],
   "source": [
    "w"
   ]
  },
  {
   "cell_type": "code",
   "execution_count": null,
   "id": "c3eef258",
   "metadata": {},
   "outputs": [],
   "source": [
    "plt.plot(weight, w)\n",
    "plt.xlabel(\"weight\")\n",
    "plt.ylabel(\"Avg path length\")"
   ]
  },
  {
   "cell_type": "code",
   "execution_count": null,
   "id": "f2c65f05",
   "metadata": {},
   "outputs": [],
   "source": [
    "w_0_p_0_time_m = [i[0] for i in p_path_dict_c[0]]\n",
    "w_05_p_0_time_m = [i[1] for i in p_path_dict_c[0]]\n",
    "w_1_p_0_time_m = [i[2] for i in p_path_dict_c[0]]\n",
    "w_15_p_0_time_m = [i[3] for i in p_path_dict_c[0]]\n",
    "w_2_p_0_time_m = [i[4] for i in p_path_dict_c[0]]\n",
    "w_3_p_0_time_m = [i[5] for i in p_path_dict_c[0]]\n",
    "w_0_p_0_time_m = sum(w_0_p_0_time_m)/len(w_0_p_0_time_m)\n",
    "w_05_p_0_time_m = sum(w_05_p_0_time_m)/len(w_05_p_0_time_m)\n",
    "w_1_p_0_time_m = sum(w_1_p_0_time_m)/len(w_1_p_0_time_m)\n",
    "w_15_p_0_time_m = sum(w_15_p_0_time_m)/len(w_15_p_0_time_m)\n",
    "w_2_p_0_time_m = sum(w_2_p_0_time_m)/len(w_2_p_0_time_m)\n",
    "w_3_p_0_time_m = sum(w_3_p_0_time_m)/len(w_3_p_0_time_m)\n",
    "w = [w_0_p_0_time_m, w_05_p_0_time_m, w_1_p_0_time_m, w_15_p_0_time_m, w_2_p_0_time_m, w_3_p_0_time_m]"
   ]
  },
  {
   "cell_type": "code",
   "execution_count": null,
   "id": "6e610bdb",
   "metadata": {},
   "outputs": [],
   "source": [
    "w"
   ]
  },
  {
   "cell_type": "code",
   "execution_count": null,
   "id": "2042d49f",
   "metadata": {},
   "outputs": [],
   "source": [
    "plt.plot(weight, w)\n",
    "plt.xlabel(\"weight\")\n",
    "plt.ylabel(\"Avg path length\")"
   ]
  },
  {
   "cell_type": "markdown",
   "id": "c015050b",
   "metadata": {},
   "source": [
    "##### Similarly plots for other P's can be plotted"
   ]
  },
  {
   "cell_type": "markdown",
   "id": "79d6a396",
   "metadata": {},
   "source": [
    "#### Effect of adaptive weights on A*"
   ]
  },
  {
   "cell_type": "code",
   "execution_count": null,
   "id": "01cb656e",
   "metadata": {},
   "outputs": [],
   "source": [
    "p_time_dict_m = {}\n",
    "p_path_dict_m = {}\n",
    "p_np_dict_m = {}\n",
    "\n",
    "p_time_dict_e = {}\n",
    "p_path_dict_e = {}\n",
    "p_np_dict_e = {}\n",
    "\n",
    "p_time_dict_c = {}\n",
    "p_path_dict_c = {}\n",
    "p_np_dict_c = {}\n",
    "\n",
    "weight = [1, 2, 3, 5, 7, 9, 11, 13]\n",
    "\n",
    "for p in tqdm([0.25]):\n",
    "    print(p)\n",
    "    time_m = []\n",
    "    time_e = []\n",
    "    time_c = []\n",
    "    path_m = []\n",
    "    path_e = []\n",
    "    path_c = []\n",
    "    np_m = []\n",
    "    np_e = []\n",
    "    np_c = []\n",
    "    count = 0\n",
    "    while(count < 500):\n",
    "        if(count % 50 == 0):\n",
    "            print(count)\n",
    "        real_world_grid = gen_env(p, 101)\n",
    "        if (not is_solveable(real_world_grid, [0,0], [100,100])):\n",
    "            continue\n",
    "        else:\n",
    "            count += 1\n",
    "            timer_m = []\n",
    "            cp_m = []\n",
    "            p_m = []\n",
    "            \n",
    "            timer_e = []\n",
    "            cp_e = []\n",
    "            p_e = []\n",
    "\n",
    "            timer_c = []\n",
    "            cp_c = []\n",
    "            p_c = []\n",
    "            for w in weight:\n",
    "                t = time.time() \n",
    "                path,cp, nc = Astar(real_world_grid, [0,0], [100,100], 'dec_weight_m', w)\n",
    "                timer_m.append(time.time()-t)\n",
    "                cp_m.append(cp)\n",
    "                p_m.append(len(print_path(path)))\n",
    "                \n",
    "                t = time.time() \n",
    "                path,cp, nc = Astar(real_world_grid, [0,0], [100,100], 'dec_weight_e', w)\n",
    "                timer_e.append(time.time()-t)\n",
    "                cp_e.append(cp)\n",
    "                p_e.append(len(print_path(path)))\n",
    "                \n",
    "                t = time.time() \n",
    "                path,cp, nc = Astar(real_world_grid, [0,0], [100,100], 'dec_weight_c', w)\n",
    "                timer_c.append(time.time()-t)\n",
    "                cp_c.append(cp)\n",
    "                p_c.append(len(print_path(path)))\n",
    "                \n",
    "\n",
    "        time_m.append(timer_m)\n",
    "        np_m.append(cp_m)\n",
    "        path_m.append(p_m)\n",
    "        \n",
    "        time_e.append(timer_e)\n",
    "        np_e.append(cp_e)\n",
    "        path_e.append(p_e)\n",
    "        \n",
    "        time_c.append(timer_c)\n",
    "        np_c.append(cp_c)\n",
    "        path_c.append(p_c)\n",
    "        \n",
    "    p_time_dict_m[p] = time_m\n",
    "    p_path_dict_m[p] = path_m\n",
    "    p_np_dict_m[p] = np_m\n",
    "    \n",
    "    p_time_dict_e[p] = time_e\n",
    "    p_path_dict_e[p] = path_e\n",
    "    p_np_dict_e[p] = np_e\n",
    "    \n",
    "    p_time_dict_c[p] = time_c\n",
    "    p_path_dict_c[p] = path_c\n",
    "    p_np_dict_c[p] = np_c"
   ]
  },
  {
   "cell_type": "markdown",
   "id": "ee333f55",
   "metadata": {},
   "source": [
    "#### Time"
   ]
  },
  {
   "cell_type": "code",
   "execution_count": null,
   "id": "b68c5a23",
   "metadata": {},
   "outputs": [],
   "source": [
    "w_0_p_0_time_m = [i[0] for i in p_time_dict_m[0.25]]\n",
    "w_05_p_0_time_m = [i[1] for i in p_time_dict_m[0.25]]\n",
    "w_1_p_0_time_m = [i[2] for i in p_time_dict_m[0.25]]\n",
    "w_15_p_0_time_m = [i[3] for i in p_time_dict_m[0.25]]\n",
    "w_2_p_0_time_m = [i[4] for i in p_time_dict_m[0.25]]\n",
    "w_3_p_0_time_m = [i[5] for i in p_time_dict_m[0.25]]\n",
    "w_4_p_0_time_m = [i[6] for i in p_time_dict_m[0.25]]\n",
    "w_5_p_0_time_m = [i[7] for i in p_time_dict_m[0.25]]\n",
    "w_0_p_0_time_m = sum(w_0_p_0_time_m)/len(w_0_p_0_time_m)\n",
    "w_05_p_0_time_m = sum(w_05_p_0_time_m)/len(w_05_p_0_time_m)\n",
    "w_1_p_0_time_m = sum(w_1_p_0_time_m)/len(w_1_p_0_time_m)\n",
    "w_15_p_0_time_m = sum(w_15_p_0_time_m)/len(w_15_p_0_time_m)\n",
    "w_2_p_0_time_m = sum(w_2_p_0_time_m)/len(w_2_p_0_time_m)\n",
    "w_3_p_0_time_m = sum(w_3_p_0_time_m)/len(w_3_p_0_time_m)\n",
    "w_4_p_0_time_m = sum(w_4_p_0_time_m)/len(w_4_p_0_time_m)\n",
    "w_5_p_0_time_m = sum(w_5_p_0_time_m)/len(w_5_p_0_time_m)\n",
    "w = [w_0_p_0_time_m, w_05_p_0_time_m, w_1_p_0_time_m, w_15_p_0_time_m, w_2_p_0_time_m, w_3_p_0_time_m, w_4_p_0_time_m, w_5_p_0_time_m]"
   ]
  },
  {
   "cell_type": "code",
   "execution_count": null,
   "id": "9bedcd37",
   "metadata": {},
   "outputs": [],
   "source": [
    "plt.plot(weight, w)\n",
    "plt.xlabel('weight')\n",
    "plt.ylabel('time to solve the grid')"
   ]
  },
  {
   "cell_type": "code",
   "execution_count": null,
   "id": "b8f3dc27",
   "metadata": {},
   "outputs": [],
   "source": [
    "w_0_p_0_time_m = [i[0] for i in p_time_dict_e[0.25]]\n",
    "w_05_p_0_time_m = [i[1] for i in p_time_dict_e[0.25]]\n",
    "w_1_p_0_time_m = [i[2] for i in p_time_dict_e[0.25]]\n",
    "w_15_p_0_time_m = [i[3] for i in p_time_dict_e[0.25]]\n",
    "w_2_p_0_time_m = [i[4] for i in p_time_dict_e[0.25]]\n",
    "w_3_p_0_time_m = [i[5] for i in p_time_dict_e[0.25]]\n",
    "w_4_p_0_time_m = [i[6] for i in p_time_dict_e[0.25]]\n",
    "w_5_p_0_time_m = [i[7] for i in p_time_dict_e[0.25]]\n",
    "w_0_p_0_time_m = sum(w_0_p_0_time_m)/len(w_0_p_0_time_m)\n",
    "w_05_p_0_time_m = sum(w_05_p_0_time_m)/len(w_05_p_0_time_m)\n",
    "w_1_p_0_time_m = sum(w_1_p_0_time_m)/len(w_1_p_0_time_m)\n",
    "w_15_p_0_time_m = sum(w_15_p_0_time_m)/len(w_15_p_0_time_m)\n",
    "w_2_p_0_time_m = sum(w_2_p_0_time_m)/len(w_2_p_0_time_m)\n",
    "w_3_p_0_time_m = sum(w_3_p_0_time_m)/len(w_3_p_0_time_m)\n",
    "w_4_p_0_time_m = sum(w_4_p_0_time_m)/len(w_4_p_0_time_m)\n",
    "w_5_p_0_time_m = sum(w_5_p_0_time_m)/len(w_5_p_0_time_m)\n",
    "w = [w_0_p_0_time_m, w_05_p_0_time_m, w_1_p_0_time_m, w_15_p_0_time_m, w_2_p_0_time_m, w_3_p_0_time_m, w_4_p_0_time_m, w_5_p_0_time_m]"
   ]
  },
  {
   "cell_type": "code",
   "execution_count": null,
   "id": "e5a8ce0c",
   "metadata": {},
   "outputs": [],
   "source": [
    "plt.plot(weight, w)\n",
    "plt.xlabel('weight')\n",
    "plt.ylabel('time to solve the grid')"
   ]
  },
  {
   "cell_type": "code",
   "execution_count": null,
   "id": "2192afb9",
   "metadata": {},
   "outputs": [],
   "source": [
    "w_0_p_0_time_m = [i[0] for i in p_time_dict_c[0.25]]\n",
    "w_05_p_0_time_m = [i[1] for i in p_time_dict_c[0.25]]\n",
    "w_1_p_0_time_m = [i[2] for i in p_time_dict_c[0.25]]\n",
    "w_15_p_0_time_m = [i[3] for i in p_time_dict_c[0.25]]\n",
    "w_2_p_0_time_m = [i[4] for i in p_time_dict_c[0.25]]\n",
    "w_3_p_0_time_m = [i[5] for i in p_time_dict_c[0.25]]\n",
    "w_4_p_0_time_m = [i[6] for i in p_time_dict_c[0.25]]\n",
    "w_5_p_0_time_m = [i[7] for i in p_time_dict_c[0.25]]\n",
    "w_0_p_0_time_m = sum(w_0_p_0_time_m)/len(w_0_p_0_time_m)\n",
    "w_05_p_0_time_m = sum(w_05_p_0_time_m)/len(w_05_p_0_time_m)\n",
    "w_1_p_0_time_m = sum(w_1_p_0_time_m)/len(w_1_p_0_time_m)\n",
    "w_15_p_0_time_m = sum(w_15_p_0_time_m)/len(w_15_p_0_time_m)\n",
    "w_2_p_0_time_m = sum(w_2_p_0_time_m)/len(w_2_p_0_time_m)\n",
    "w_3_p_0_time_m = sum(w_3_p_0_time_m)/len(w_3_p_0_time_m)\n",
    "w_4_p_0_time_m = sum(w_4_p_0_time_m)/len(w_4_p_0_time_m)\n",
    "w_5_p_0_time_m = sum(w_5_p_0_time_m)/len(w_5_p_0_time_m)\n",
    "w = [w_0_p_0_time_m, w_05_p_0_time_m, w_1_p_0_time_m, w_15_p_0_time_m, w_2_p_0_time_m, w_3_p_0_time_m, w_4_p_0_time_m, w_5_p_0_time_m]"
   ]
  },
  {
   "cell_type": "code",
   "execution_count": null,
   "id": "3ffb41b2",
   "metadata": {},
   "outputs": [],
   "source": [
    "plt.plot(weight, w)\n",
    "plt.xlabel('weight')\n",
    "plt.ylabel('time to solve the grid')"
   ]
  },
  {
   "cell_type": "markdown",
   "id": "7a375546",
   "metadata": {},
   "source": [
    "#### Path"
   ]
  },
  {
   "cell_type": "code",
   "execution_count": null,
   "id": "8d4b5a52",
   "metadata": {},
   "outputs": [],
   "source": [
    "w_0_p_0_time_m = [i[0] for i in p_path_dict_m[0.25]]\n",
    "w_05_p_0_time_m = [i[1] for i in p_path_dict_m[0.25]]\n",
    "w_1_p_0_time_m = [i[2] for i in p_path_dict_m[0.25]]\n",
    "w_15_p_0_time_m = [i[3] for i in p_path_dict_m[0.25]]\n",
    "w_2_p_0_time_m = [i[4] for i in p_path_dict_m[0.25]]\n",
    "w_3_p_0_time_m = [i[5] for i in p_path_dict_m[0.25]]\n",
    "w_4_p_0_time_m = [i[6] for i in p_path_dict_m[0.25]]\n",
    "w_5_p_0_time_m = [i[7] for i in p_path_dict_m[0.25]]\n",
    "w_0_p_0_time_m = sum(w_0_p_0_time_m)/len(w_0_p_0_time_m)\n",
    "w_05_p_0_time_m = sum(w_05_p_0_time_m)/len(w_05_p_0_time_m)\n",
    "w_1_p_0_time_m = sum(w_1_p_0_time_m)/len(w_1_p_0_time_m)\n",
    "w_15_p_0_time_m = sum(w_15_p_0_time_m)/len(w_15_p_0_time_m)\n",
    "w_2_p_0_time_m = sum(w_2_p_0_time_m)/len(w_2_p_0_time_m)\n",
    "w_3_p_0_time_m = sum(w_3_p_0_time_m)/len(w_3_p_0_time_m)\n",
    "w_4_p_0_time_m = sum(w_4_p_0_time_m)/len(w_4_p_0_time_m)\n",
    "w_5_p_0_time_m = sum(w_5_p_0_time_m)/len(w_5_p_0_time_m)\n",
    "w = [w_0_p_0_time_m, w_05_p_0_time_m, w_1_p_0_time_m, w_15_p_0_time_m, w_2_p_0_time_m, w_3_p_0_time_m, w_4_p_0_time_m, w_5_p_0_time_m]"
   ]
  },
  {
   "cell_type": "code",
   "execution_count": null,
   "id": "d7fc0da2",
   "metadata": {},
   "outputs": [],
   "source": [
    "plt.plot(weight, w)\n",
    "plt.xlabel('weight')\n",
    "plt.ylabel('Avg Trajectory Length')"
   ]
  },
  {
   "cell_type": "code",
   "execution_count": null,
   "id": "127420ab",
   "metadata": {},
   "outputs": [],
   "source": [
    "w_0_p_0_time_m = [i[0] for i in p_path_dict_e[0.25]]\n",
    "w_05_p_0_time_m = [i[1] for i in p_path_dict_e[0.25]]\n",
    "w_1_p_0_time_m = [i[2] for i in p_path_dict_e[0.25]]\n",
    "w_15_p_0_time_m = [i[3] for i in p_path_dict_e[0.25]]\n",
    "w_2_p_0_time_m = [i[4] for i in p_path_dict_e[0.25]]\n",
    "w_3_p_0_time_m = [i[5] for i in p_path_dict_e[0.25]]\n",
    "w_4_p_0_time_m = [i[6] for i in p_path_dict_e[0.25]]\n",
    "w_5_p_0_time_m = [i[7] for i in p_path_dict_e[0.25]]\n",
    "w_0_p_0_time_m = sum(w_0_p_0_time_m)/len(w_0_p_0_time_m)\n",
    "w_05_p_0_time_m = sum(w_05_p_0_time_m)/len(w_05_p_0_time_m)\n",
    "w_1_p_0_time_m = sum(w_1_p_0_time_m)/len(w_1_p_0_time_m)\n",
    "w_15_p_0_time_m = sum(w_15_p_0_time_m)/len(w_15_p_0_time_m)\n",
    "w_2_p_0_time_m = sum(w_2_p_0_time_m)/len(w_2_p_0_time_m)\n",
    "w_3_p_0_time_m = sum(w_3_p_0_time_m)/len(w_3_p_0_time_m)\n",
    "w_4_p_0_time_m = sum(w_4_p_0_time_m)/len(w_4_p_0_time_m)\n",
    "w_5_p_0_time_m = sum(w_5_p_0_time_m)/len(w_5_p_0_time_m)\n",
    "w = [w_0_p_0_time_m, w_05_p_0_time_m, w_1_p_0_time_m, w_15_p_0_time_m, w_2_p_0_time_m, w_3_p_0_time_m, w_4_p_0_time_m, w_5_p_0_time_m]"
   ]
  },
  {
   "cell_type": "code",
   "execution_count": null,
   "id": "28942721",
   "metadata": {},
   "outputs": [],
   "source": [
    "plt.plot(weight, w)\n",
    "plt.xlabel('weight')\n",
    "plt.ylabel('Avg Trajectory Length')"
   ]
  },
  {
   "cell_type": "code",
   "execution_count": null,
   "id": "e8b60613",
   "metadata": {},
   "outputs": [],
   "source": [
    "w_0_p_0_time_m = [i[0] for i in p_path_dict_c[0.25]]\n",
    "w_05_p_0_time_m = [i[1] for i in p_path_dict_c[0.25]]\n",
    "w_1_p_0_time_m = [i[2] for i in p_path_dict_c[0.25]]\n",
    "w_15_p_0_time_m = [i[3] for i in p_path_dict_c[0.25]]\n",
    "w_2_p_0_time_m = [i[4] for i in p_path_dict_c[0.25]]\n",
    "w_3_p_0_time_m = [i[5] for i in p_path_dict_c[0.25]]\n",
    "w_4_p_0_time_m = [i[6] for i in p_path_dict_c[0.25]]\n",
    "w_5_p_0_time_m = [i[7] for i in p_path_dict_c[0.25]]\n",
    "w_0_p_0_time_m = sum(w_0_p_0_time_m)/len(w_0_p_0_time_m)\n",
    "w_05_p_0_time_m = sum(w_05_p_0_time_m)/len(w_05_p_0_time_m)\n",
    "w_1_p_0_time_m = sum(w_1_p_0_time_m)/len(w_1_p_0_time_m)\n",
    "w_15_p_0_time_m = sum(w_15_p_0_time_m)/len(w_15_p_0_time_m)\n",
    "w_2_p_0_time_m = sum(w_2_p_0_time_m)/len(w_2_p_0_time_m)\n",
    "w_3_p_0_time_m = sum(w_3_p_0_time_m)/len(w_3_p_0_time_m)\n",
    "w_4_p_0_time_m = sum(w_4_p_0_time_m)/len(w_4_p_0_time_m)\n",
    "w_5_p_0_time_m = sum(w_5_p_0_time_m)/len(w_5_p_0_time_m)\n",
    "w = [w_0_p_0_time_m, w_05_p_0_time_m, w_1_p_0_time_m, w_15_p_0_time_m, w_2_p_0_time_m, w_3_p_0_time_m, w_4_p_0_time_m, w_5_p_0_time_m]"
   ]
  },
  {
   "cell_type": "code",
   "execution_count": null,
   "id": "90bd7972",
   "metadata": {},
   "outputs": [],
   "source": [
    "plt.plot(weight, w)\n",
    "plt.xlabel('weight')\n",
    "plt.ylabel('Avg Trajectory Length')"
   ]
  },
  {
   "cell_type": "markdown",
   "id": "b514959e",
   "metadata": {},
   "source": [
    "#### Effect of adaptive weights on repeated A*"
   ]
  },
  {
   "cell_type": "code",
   "execution_count": null,
   "id": "0235c97a",
   "metadata": {},
   "outputs": [],
   "source": [
    "p_time_dict_m = {}\n",
    "p_path_dict_m = {}\n",
    "p_np_dict_m = {}\n",
    "\n",
    "p_time_dict_e = {}\n",
    "p_path_dict_e = {}\n",
    "p_np_dict_e = {}\n",
    "\n",
    "p_time_dict_c = {}\n",
    "p_path_dict_c = {}\n",
    "p_np_dict_c = {}\n",
    "\n",
    "weight = [1, 2, 3, 5]\n",
    "\n",
    "for p in tqdm([0.25]):\n",
    "    print(p)\n",
    "    time_m = []\n",
    "    time_e = []\n",
    "    time_c = []\n",
    "    path_m = []\n",
    "    path_e = []\n",
    "    path_c = []\n",
    "    np_m = []\n",
    "    np_e = []\n",
    "    np_c = []\n",
    "    count = 0\n",
    "    while(count < 200):\n",
    "        if(count % 50 == 0):\n",
    "            print(count)\n",
    "        real_world_grid = gen_env(p, 101)\n",
    "        if (not is_solveable(real_world_grid, [0,0], [100,100])):\n",
    "            continue\n",
    "        else:\n",
    "            count += 1\n",
    "            timer_m = []\n",
    "            cp_m = []\n",
    "            p_m = []\n",
    "            \n",
    "            timer_e = []\n",
    "            cp_e = []\n",
    "            p_e = []\n",
    "\n",
    "            timer_c = []\n",
    "            cp_c = []\n",
    "            p_c = []\n",
    "            for w in weight:\n",
    "                bot_env = bot_env = gen_env(0,101)\n",
    "                final_discovered_grid_world = gen_env(1,101)\n",
    "                t = time.time()\n",
    "                path,cp = repeated_astar(bot_env, real_world_grid,[0,0], [100,100], 'dec_weight_m', final_discovered_grid_world, False, w)\n",
    "                timer_m.append(time.time()-t)\n",
    "                cp_m.append(cp)\n",
    "                p_m.append(len(print_path(path)))\n",
    "                \n",
    "\n",
    "        time_m.append(timer_m)\n",
    "        np_m.append(cp_m)\n",
    "        path_m.append(p_m)\n",
    "        \n",
    "    p_time_dict_m[p] = time_m\n",
    "    p_path_dict_m[p] = path_m\n",
    "    p_np_dict_m[p] = np_m"
   ]
  },
  {
   "cell_type": "code",
   "execution_count": null,
   "id": "544cd2b6",
   "metadata": {},
   "outputs": [],
   "source": [
    "w_0_p_0_time_m = [i[0] for i in p_time_dict_m[0.25]]\n",
    "w_05_p_0_time_m = [i[1] for i in p_time_dict_m[0.25]]\n",
    "w_1_p_0_time_m = [i[2] for i in p_time_dict_m[0.25]]\n",
    "w_15_p_0_time_m = [i[3] for i in p_time_dict_m[0.25]]\n",
    "w_0_p_0_time_m = sum(w_0_p_0_time_m)/len(w_0_p_0_time_m)\n",
    "w_05_p_0_time_m = sum(w_05_p_0_time_m)/len(w_05_p_0_time_m)\n",
    "w_1_p_0_time_m = sum(w_1_p_0_time_m)/len(w_1_p_0_time_m)\n",
    "w_15_p_0_time_m = sum(w_15_p_0_time_m)/len(w_15_p_0_time_m)\n",
    "w = [w_0_p_0_time_m, w_05_p_0_time_m, w_1_p_0_time_m, w_15_p_0_time_m]"
   ]
  },
  {
   "cell_type": "code",
   "execution_count": null,
   "id": "ceed7e6f",
   "metadata": {},
   "outputs": [],
   "source": [
    "w"
   ]
  },
  {
   "cell_type": "code",
   "execution_count": null,
   "id": "642097a6",
   "metadata": {},
   "outputs": [],
   "source": [
    "plt.plot(weight, w)\n",
    "plt.xlabel('weight')\n",
    "plt.ylabel('time')"
   ]
  }
 ],
 "metadata": {
  "kernelspec": {
   "display_name": "Python 3",
   "language": "python",
   "name": "python3"
  },
  "language_info": {
   "codemirror_mode": {
    "name": "ipython",
    "version": 3
   },
   "file_extension": ".py",
   "mimetype": "text/x-python",
   "name": "python",
   "nbconvert_exporter": "python",
   "pygments_lexer": "ipython3",
   "version": "3.8.8"
  }
 },
 "nbformat": 4,
 "nbformat_minor": 5
}
